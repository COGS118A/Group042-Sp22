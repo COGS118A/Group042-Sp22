{
 "cells": [
  {
   "cell_type": "markdown",
   "metadata": {},
   "source": [
    "# COGS 118A- Project Checkpoint"
   ]
  },
  {
   "cell_type": "markdown",
   "metadata": {},
   "source": [
    "# Names\n",
    "\n",
    "- Xing Hong A15867895, xihong@ucsd.edu\n",
    "- Xiangyi Kong A16138343 xkong@ucsd.edu\n",
    "- Luning Yang A16158834 l4yang@ucsd.edu\n",
    "- Yunyi Huang A15813745 yuh022@ucsd.edu \n",
    "- Annie Fan A15932544 c7fan@ucsd.edu "
   ]
  },
  {
   "cell_type": "markdown",
   "metadata": {},
   "source": [
    "# Abstract \n",
    "- Proposed Problem:\n",
    "\n",
    "***Are there any clear crime type, seasonal, hourly trends in clearance status?***\n",
    "\n",
    "***How will we use data time, crime type information to predict(classify) clearance status?***\n",
    "\n",
    "- Data and Measurement: \n",
    "\n",
    "Data consists of 159K samples, 18 columns on type of crime reported, location by various attributes (lat/lon, council district, census tract) and time are included. Clearance status by Austin PD is also recorded where available. Measurement consists of timestamp, categorical, numerical data for different columns. \n",
    "\n",
    "- Data Usage: (What will we do)\n",
    "\n",
    "We will first address the correlation between crime type, date time information and clearance status by using correlation tests and independent tests. Then, we will construct different new features based on how we define the time segments for training prediction models. If the trend and correlation is clear, we can train can compare different classification models. \n",
    "\n",
    "- Performance measurement:\n",
    "\n",
    "The models’ performance will be evaluated based on our metrics. After we trained several models, we can compare them by using different criteria, for example accuracy, precision, ROC, AUC, etc..\n"
   ]
  },
  {
   "cell_type": "markdown",
   "metadata": {},
   "source": [
    "# Background\n",
    "\n",
    "Crime is a social problem that has been obsessing the people in the United States, and from time to time, this problem seems to become more and more severe. There are a lot of factors that would increase the crime rate, and these includes: poverty level and job availability, social level of morality, police policy, and age of the population, etc <a name=\"anote\"></a>[<sup>[1]</sup>](#anote) . They seem to be reasonable, because if the poverty level is high and the job availability is low, people will start to commit crimes in order to access the needs they are not able to afford through the legal way. Also, the tolerance level of immorality is high in some communities, which increases the crime eventually. Furthermore, if there is a lack in police force, there would be more space for people to commit crimes. \n",
    " \n",
    "When crimes happen, one of the most important thing is to resolve the crime, either by arrect or exceptional means, which is called clearance in professional fields <a name=\"bnote\"></a>[<sup>[2]</sup>](#bnote) . Some crimes are cleared within a short time like a couple months, while some crimes are cleared after a long time which takes several years, even remain unresolved after decades. Why does it happen? Are there any features of the crimes make some of them be cleared very quickly?\n",
    "\t\n",
    "A study in Quebec, Canada focused on the similar topic suggested that the likelihood of a crime to be cleared is closely linked to the efficacy of the police departments, and it will be more likely to be cleared if the crime was commited in a wealthy community <a name=\"cnote\"></a>[<sup>[3]</sup>](#cnote). In short, the crime clearance is tied to the location of the crime. Another study focusing on the clearance of homicides, asserted that the likelihood of a crime to be cleared might be related to the offender’s demographics, drug use, and crime location, etc <a name=\"dnote\"></a>[<sup>[4]</sup>](#dnote). \n",
    " \n",
    "In this project, we would like to find out what characteristics of a crime case are likely causing the case to be cleared and build a predictor/classifier model. We will target the city of Austin, TX and perform machine learning on its data to answer the research questions we have stated in the previous section. "
   ]
  },
  {
   "cell_type": "markdown",
   "metadata": {},
   "source": [
    "# Problem Statement\n",
    "\n",
    "Clearly describe the problem that you are solving. Avoid ambiguous words. The problem described should be well defined and should have at least one ML-relevant potential solution. Additionally, describe the problem thoroughly such that it is clear that the problem is quantifiable (the problem can be expressed in mathematical or logical terms), measurable (the problem can be measured by some metric and clearly observed), and replicable (the problem can be reproduced and occurs more than once).\n",
    "\n",
    "The problems we will be focusing on are the following:\n",
    "\n",
    "***Are there any clear crime type, seasonal, hourly trends in clearance status?***\n",
    "\n",
    "***How will we use data time (continues quantity/discrete categories), crime type information(discrete categories) to predict(classify) clearance status?***\n",
    "\n",
    "he problem will be split into two: finding/proving correlation (statists), and classification (modeling). Given our definition of the problem, we can utilize the data by segmenting date time information, grouping crime types. Therefore, it is possible that we can use correlation, independence tests finding and proving the connection with clearance status (Not Cleared, Cleared by Arrest, Cleared by Exception, etc.) If the trend is clear, then we will further explore what will be the best division of time, as well as whether there is an issue of unbalanced data. T\n",
    "\n",
    "Another thing to consider is that, time is given in the form of a unified, we need to extract specific seasonal and daily information from it. Due to the nature of the crime, time itself may not be accurate, we need more analysis in  specific situations. \n",
    "\n",
    "Ultimately, we will build our models for classification and predict the clearance status based on our constructed features. The type of crime also need to consider, given that it contains a variety of categories, some of these categories are similar, some are very different, we need to consider which to be combined and which to be cancled before classification. This can also lead to a large number of null values, which are common in recommender systems, especially when there are many categories. Therefore, when creating time period information and crime types, we need to keep an eye on the number of samples in each category. Furthermore, we also need to build specialized variables to participate in training for the types we haven't seen in order to avoid the problem of model failing in real-world predictions.\n",
    "\n",
    "## Hypothesis\n",
    "\n",
    "We hypothesize that there will be clear correlations between seasonal, hourly, crime types information and clearance status. Furthermore, it is possible for us to train a sophisticated classification model that can predict the clearance status based on given information.\n",
    "\n",
    "We decided to have this topic given the worries of the climbing crime rate. Some crimes are cleared within a short time like a couple of months, while some crimes are cleared after a long time which takes several years, and even remain unresolved after decades. We want to address the following questions: Why does it happen? Are there any features of the crimes that make some of them be cleared very quickly? With a deeper understanding of the factors that can affect crime clearance, we can improve the current efficiency by focusing on more specific targets.\n",
    "\n",
    "## Significance\n",
    "\n",
    "In this project, we would like to find out what characteristics of a crime case are likely causing the case to be cleared and build a predictor/classifier model. We will target the city of Austin, TX and perform machine learning on its data to answer the research questions we have stated in the previous section. This classifier helps us better understand the nature of crime in the region, thus discuss the different factors for crime prevention, how does it happen, and the influence of clearance. From the administrative level, which will help to improve the work efficiency of the local police, and thus finding management loopholes. From a social science point of view, this can provide us with a new perspective on the judicial system, that is, time, the impact of seasonal factors on judicial action."
   ]
  },
  {
   "cell_type": "markdown",
   "metadata": {},
   "source": [
    "# Data (NEED UPDATE)\n",
    "\n",
    "UPDATED FROM PROPOSAL!\n",
    "\n",
    "You should have obtained and cleaned (if necessary) data you will use for this project.\n",
    "\n",
    "Please give the following infomration for each dataset you are using\n",
    "- link/reference to obtain it\n",
    "- description of the size of the dataset (# of variables, # of observations)\n",
    "- what an observation consists of\n",
    "- what some critical variables are, how they are represented\n",
    "- any special handling, transformations, cleaning, etc you have done should be demonstrated here!\n",
    "\n",
    "___\n",
    "\n",
    "Link/reference to obtain it\n",
    "- https://www.kaggle.com/datasets/jboysen/austin-crime\n",
    "\n",
    "Description of the size of the dataset (# of variables, # of observations)\n",
    "- 159k - Number of Observations, 18 variables \n",
    "\n",
    "What an observation consists of\n",
    "\n",
    "- Each observation contains an address(the postal address), census_tract(the census location), clearance_date(time of clearance), clearance_status(cleared by arrest, not cleared, etc), council_district_code(Austin council district code), description(low-level description of crime), district(Austin city district), latitude(geospatial latitude coord), location(latitude, longitude), location_description(street address), longitude(geospatial longitude coordinate), primary_type(high-level description of crime), timestamp(time of report in the form of YYYY-MM-DD HH:MM:SS), unique_key(Austin record key), x_coordinate(city coordinate, not same as lat/lon), y_coordinate(city coordinate, not same as lat/lon), year(year of report, YYYY, 2014-2016), zipcode(postal zip code)\n",
    "\n",
    "What some critical variables are, how they are represented\n",
    "\n",
    "- clearance_date(time of clearance)\n",
    "- description(low-level description of crime)\n",
    "- primary_type(high-level description of crime)\n",
    "- timestamp(time of report in the form of YYYY-MM-DD HH:MM:SS)\n",
    "- clearance_status(cleared by arrest, not cleared, cleared by exception, etc)\n",
    "\n",
    "Any special handling, transformations, cleaning, etc will be needed\n",
    "\n",
    "- Handle missing data (Maybe Imputation)\n",
    "- Create a new categorical feature: seasonal_feature(Spring, Summer, Fall, Winter) from timestamp\n",
    "- Create a new time feature: hourly_feature(1am-12am) from timestamp\n",
    "- One Hot Encoding \n",
    "- Scatter Plot\n",
    "\n"
   ]
  },
  {
   "cell_type": "markdown",
   "metadata": {},
   "source": [
    "# Proposed Solution\n",
    "\n",
    "- ***Are there any clear crime type, seasonal, hourly trends in clearance status?***\n",
    "\n",
    "We will be performing EDA on the given dataset and mainly using correlation matrix to see if there are any clear relationship between crime type, seasonal, hourly trends in clearance status.\n",
    "We will test the relationship with paired t-test, anova, and wilcoxon.\n",
    "This is essential as we later predict the clearance status as it could help us determine what features should be more weighted and what features are not so important in our further prediction.\n",
    "Potential use of Library: Pandas, Numpy, Scikit-Learn, Matplot\n",
    "\n",
    "- ***How will we use data time, crime type information to predict(classify) clearance status?***\n",
    "\n",
    "We will do a train/test split on our dataset and use supervised machine learning algorithms like Decision Tree Regressor to see how our model performs and set this as a baseline model.\n",
    "Then we can start using Random Forest Regression to predict one’s clearance status based on crime type, seasonal_feature(new_feature), hourly_feature(new_feature) with hyperparameter tuning to further improve our model’s performance.\n",
    "We will be using supervised machine learning algorithms like K-nearest Neighbors/Support Vector Machine to view if there are any hidden relationship between crime type, seasonal, hourly trends in clearance status to better classify clearance status.\n",
    "Model’s performance could be determined by accuracy, precision, ROC, AUC, etc.. \n",
    "Potential use of Library: Pandas, Numpy, Scikit-Learn, Matplot\n"
   ]
  },
  {
   "cell_type": "markdown",
   "metadata": {},
   "source": [
    "# Evaluation Metrics\n",
    "\n",
    "In our classification tasks, we will evaluate our models by comparing the evaluation metrics such as the following:\n",
    "\n",
    "- Accuracy score (using the score method in sklearn):\n",
    "- Precision & Recall\n",
    "\n",
    "$ Accuracy = \\frac{TP+TN}{TP+TN+FP+FN} $\n",
    "\n",
    "$ Precision = \\frac{TP}{TP+FP} $ \n",
    "\n",
    "$ Recall = \\frac{TP}{TP+FN}$\n",
    "\n",
    "$ TP = True\\space Positive, TN = True\\space Negative, FP = False\\space Positive, FN = False\\space Negative $\n",
    "\n",
    "\n",
    "We are using multiple evaluation metrics because we currently do not know whether our data is balanced or not. By comparing results of different metrics, we can evaluate our models more thoroughly. We use accuracy to measure how well our model is able to put a crime record into the correct clearance status. However, accuracy might not be ideal for a dataset with disproportional clearance status.We will use alternative metrics such as precision and recall. These two metrics are good at detecting whether a model can predict a category with small proportion in the dataset correctly. For example, if the dataset only contains a small proportion of a certain clearance status but we really care about whether we can predict that status correctly. We should try these two metrics. "
   ]
  },
  {
   "cell_type": "markdown",
   "metadata": {},
   "source": [
    "# Preliminary results (NEED UPDATE)\n",
    "\n",
    "NEW SECTION!\n",
    "\n",
    "Please show any preliminary results you have managed to obtain.\n",
    "\n",
    "Examples would include:\n",
    "- Analyzing the suitability of a dataset or alogrithm for prediction/solving your problem \n",
    "- Performing feature selection or hand-designing features from the raw data. Describe the features available/created and/or show the code for selection/creation\n",
    "- Showing the performance of a base model/hyper-parameter setting.  Solve the task with one \"default\" algorithm and characterize the performance level of that base model.\n",
    "- Learning curves or validation curves for a particular model\n",
    "- Tables/graphs showing the performance of different models/hyper-parameters\n",
    "\n"
   ]
  },
  {
   "cell_type": "markdown",
   "metadata": {},
   "source": [
    "# Ethics & Privacy"
   ]
  },
  {
   "cell_type": "markdown",
   "metadata": {},
   "source": [
    "- Data collection\n",
    "\n",
    "   + We need to ensure that the data collectors get informed consent from the participants while collecting the data. Although they may not obtain the consent from each individual criminal, the data may still be collected and analyzed for public interest. We don’t know the exact procedures for the data collection, so we make no comment here.\n",
    "\n",
    "   + The biases of our data collection is not an issue to consider, since the data is collected by Austin PD and published by Kaggle. We believe our data is credible.\n",
    "\n",
    "   + The dataset only contains information about the address, time, and crime type of each crime. There’s no Personal Identifiable Information (PII) such as age, gender, or height of each criminal. So we should not worry about exposing a person’s privacy.\n",
    "\n",
    "- Data storage\n",
    "\n",
    "   + This should not be an issue to consider, since we don’t store our data in our own local devices. Every time we run our project, we just need to pull the data from Kaggle. We should always be aware of the update of the data.\n",
    "\n",
    "- Analysis\n",
    "\n",
    "   + We need to ensure that our results are fully supported by our data. We should avoid manipulating (p-hacking) our data to make it in favor of our hypotheses. If there’s no special crime type, seasonal, hourly trends in clearance status, we won’t modify our data to create a trend. Moreover, if we fail to use information such as time or crime type to predict the clearance status, we should report it honestly. We should not exaggerate the correlation between the independent variables and the clearance status. \n",
    "\n",
    "   + We need to address the following questions before testing our hypothesis:\n",
    "      * Are the records comprehensive, accurate and complete?\n",
    "      * If there exists some incomplete or inaccurate records, how are we going to filter them out?\n",
    "      * Does the government withhold some criminal records?\n",
    "      * Does this dataset serve some political purposes such as degrading certain districts in Austin city?\n",
    "\n",
    "- Modeling\n",
    "\n",
    "   + Proxy discrimination: Since our dataset doesn’t contain any discriminatory variable such as race or gender, this should not be an issue for us to consider. \n",
    "\n",
    "   + Fairness across groups: We need to make sure our model result is fair across all districts in Austin city.\n",
    "\n",
    "   + Explainability: We should explain our modeling procedures clearly and straightforwardly. \n",
    "\n",
    "   + Metric selection: We should use appropriate metrics to measure our model’s performance and be aware of its shortcomings. In our case, we will possibly use accuracy, precision, or recall to assess our clearance status classification performance.\n",
    "\n",
    "   + Communicate bias: We should discuss the shortcomings and future improvements of our modeling. \n",
    "\n",
    "- Deployment\n",
    "\n",
    "   + Redress: redress should not be a concern, since no PII are released in the dataset. We should not worry that participants could get hurt.\n",
    "\n",
    "   + Concept drift: We should always update our model with the most recent data. We understand that the definitions of terms such as crime types or clearance can be changed over time. So we should adjust our model accordingly. \n",
    "\n",
    "   + Roll back: We need to make sure that our results will not discriminate against people in any particular district. If that happens, we should withdraw our research and revise it. \n",
    "\n",
    "   + Unintended use: we should clearly list our research purpose and limitations to prevent other entities from misusing our research result.\n",
    "\n",
    "- Reproducibility and replicability\n",
    "\n",
    "   + We will publish our research to a public github repository to make our research reproducible. Our people can reproduce our research by following our procedure. They might get a different result due to the update of the criminal records.\n"
   ]
  },
  {
   "cell_type": "markdown",
   "metadata": {},
   "source": [
    "# Team Expectations "
   ]
  },
  {
   "cell_type": "markdown",
   "metadata": {},
   "source": [
    "Time expectation:\n",
    "   - Be on time to meetings\n",
    "   - Weekly checkin on current progress\n",
    "   - Always keep up with the deadlines, prevent procrastinate\n",
    "   - Having a clear time table and communicate when relay/coopration is needed\n",
    "   - Equally contribute in the project, no slack off on their own work\n",
    "    \n",
    "Responsibility expectation:\n",
    "   - Assigned job will be complete, no excuses after the assignment\n",
    "   - All members contribute to the brainstorm/project design/improvement/checking\n",
    "   - Prevent overworking for any member, or unbalanced assignments\n",
    "   - Assign tasks according to team members' strengths and raise any objections in time\n",
    "   - Provide help for other teammates if they need it\n",
    "    \n",
    "Meeting/Checkin Structure:\n",
    "   - Weekly meeting for the whole team, checkin progress\n",
    "   - More frequant meetings for small groups on assignment based on their needs\n",
    "   - Assign members to checkin with TA\n",
    "   - Ask for help or report problems in group chat in time\n",
    "   - Be polite and respectful to team members during discussions\n",
    "   - Topic related argument should be solved during the weekly meeting, assignment related problems can be discussed privately"
   ]
  },
  {
   "cell_type": "markdown",
   "metadata": {},
   "source": [
    "# Project Timeline Proposal"
   ]
  },
  {
   "cell_type": "markdown",
   "metadata": {},
   "source": [
    "| Meeting Date  | Meeting Time| Completed Before Meeting  | Discuss at Meeting |\n",
    "|---|---|---|---|\n",
    "| 4/23  |  8 PM |  Brainstorm topics/questions (all); Read the proposal requirements  | Determine what topics we are interested in; Finding the dataset; Draft the outline of research proposal; Set the division of works | \n",
    "| 4/24  |  7 PM |  Each team member finishes their work division. Edit, finalize, and submit proposal | Proofread other members’ work division. Give other members suggestions for improvements. | \n",
    "| 5/1  | 6 PM  | Import & Wrangle Data, do some EDA  | Review/Edit wrangling/EDA; Discuss Analysis Plan   |\n",
    "| 5/19  | 7 PM  | Finalize and submit wrangling/EDA checkpoint; Begin programming for project | Discuss/edit project code; Complete project   |\n",
    "| 5/20  | 7 PM  | Finalize Preliminary results checkpoint(benchmark); EDA improvement| Discuss/edit project code; Complete project   |\n",
    "| 5/23  | 7 PM  | Search for potential models, start on programming | Discuss/edit project code; implementations/approaches of new models  |\n",
    "| 5/25  | Before 12PM  | Preliminary results for statistical tests/new models | Discuss improvement of new models; Analysis; Result |\n",
    "| 5/29  | 12 PM  | Complete analysis; Draft results/conclusion/discussion | Discuss/edit full project |\n",
    "| 5/30  | 12 PM  | Office hour checkin and review | Keep up progress; Code editing if needed  |\n",
    "| 6/5  | Before 11:59 PM  | Finalizing report, check what's missing | Turn in Final Project  |"
   ]
  },
  {
   "cell_type": "markdown",
   "metadata": {},
   "source": [
    "# Footnotes\n",
    "<a name=\"anote\"></a>1.[^](#anote):  Thompson, J. (9 Dec 2018) Factors influencing the crime rate. Legal Beagle. https://legalbeagle.com/5969328-factors-influencing-crime-rate.html <br> \n",
    "<a name=\"bnote\"></a>2.[^](#bnote):  Offenses Cleared. FBI. https://ucr.fbi.gov/crime-in-the-u.s/2010/crime-in-the-u.s.-2010/clearances#:~:text=Cleared%20by%20exceptional%20means,In%20certain%20situations&text=The%20agency%20must%20have%3A,be%20taken%20into%20custody%20immediately. <br> \n",
    "<a name=\"cnote\"></a>3.[^](#cnote):  Paré, P. P., Felson, R. B., & Ouimet, M. (2007). Community variation in crime clearance: A multilevel analysis with comments on assessing police performance. Journal of quantitative criminology, 23(3), 243-258. https://link.springer.com/article/10.1007/s10940-007-9028-0 <br> \n",
    "<a name=\"dnote\"></a>4.[^](#dnote):  Wellford, C., & Cronin, J. (1999). An analysis of variables affecting the clearance of homicides: A multistate study. https://ncvc.dspacedirect.org/handle/20.500.11990/4057 <br> "
   ]
  },
  {
   "cell_type": "markdown",
   "metadata": {},
   "source": [
    "### EDA(YLN & TONY)"
   ]
  },
  {
   "cell_type": "code",
   "execution_count": 57,
   "metadata": {},
   "outputs": [],
   "source": [
    "import pandas as pd\n",
    "import numpy as np\n",
    "import matplotlib.pyplot as plt\n",
    "import seaborn as sns\n",
    "pd.set_option(\"display.max_columns\", None)"
   ]
  },
  {
   "cell_type": "code",
   "execution_count": 58,
   "metadata": {
    "scrolled": true
   },
   "outputs": [
    {
     "data": {
      "text/html": [
       "<div>\n",
       "<style scoped>\n",
       "    .dataframe tbody tr th:only-of-type {\n",
       "        vertical-align: middle;\n",
       "    }\n",
       "\n",
       "    .dataframe tbody tr th {\n",
       "        vertical-align: top;\n",
       "    }\n",
       "\n",
       "    .dataframe thead th {\n",
       "        text-align: right;\n",
       "    }\n",
       "</style>\n",
       "<table border=\"1\" class=\"dataframe\">\n",
       "  <thead>\n",
       "    <tr style=\"text-align: right;\">\n",
       "      <th></th>\n",
       "      <th>address</th>\n",
       "      <th>census_tract</th>\n",
       "      <th>clearance_date</th>\n",
       "      <th>clearance_status</th>\n",
       "      <th>council_district_code</th>\n",
       "      <th>description</th>\n",
       "      <th>district</th>\n",
       "      <th>latitude</th>\n",
       "      <th>location</th>\n",
       "      <th>location_description</th>\n",
       "      <th>longitude</th>\n",
       "      <th>primary_type</th>\n",
       "      <th>timestamp</th>\n",
       "      <th>unique_key</th>\n",
       "      <th>x_coordinate</th>\n",
       "      <th>y_coordinate</th>\n",
       "      <th>year</th>\n",
       "      <th>zipcode</th>\n",
       "    </tr>\n",
       "  </thead>\n",
       "  <tbody>\n",
       "    <tr>\n",
       "      <th>0</th>\n",
       "      <td>2620 RIO GRANDE ST Austin TX 78705</td>\n",
       "      <td>6.03</td>\n",
       "      <td>2015-12-14 00:00:00</td>\n",
       "      <td>Not cleared</td>\n",
       "      <td>9.0</td>\n",
       "      <td>THEFT</td>\n",
       "      <td>B</td>\n",
       "      <td>NaN</td>\n",
       "      <td>NaN</td>\n",
       "      <td>2620 RIO GRANDE ST</td>\n",
       "      <td>NaN</td>\n",
       "      <td>Theft</td>\n",
       "      <td>2015-12-13 00:00:00</td>\n",
       "      <td>2.015505e+10</td>\n",
       "      <td>3113531.0</td>\n",
       "      <td>10079579.0</td>\n",
       "      <td>2015.0</td>\n",
       "      <td>78705.0</td>\n",
       "    </tr>\n",
       "    <tr>\n",
       "      <th>1</th>\n",
       "      <td>9500 S IH 35 SVRD SB Austin TX 78748</td>\n",
       "      <td>24.21</td>\n",
       "      <td>2015-09-14 00:00:00</td>\n",
       "      <td>Cleared by Arrest</td>\n",
       "      <td>5.0</td>\n",
       "      <td>THEFT BY SHOPLIFTING</td>\n",
       "      <td>F</td>\n",
       "      <td>NaN</td>\n",
       "      <td>NaN</td>\n",
       "      <td>9500 S IH 35 SVRD SB</td>\n",
       "      <td>NaN</td>\n",
       "      <td>Theft</td>\n",
       "      <td>2015-09-03 00:00:00</td>\n",
       "      <td>2.015246e+10</td>\n",
       "      <td>3099459.0</td>\n",
       "      <td>10032098.0</td>\n",
       "      <td>2015.0</td>\n",
       "      <td>78748.0</td>\n",
       "    </tr>\n",
       "    <tr>\n",
       "      <th>2</th>\n",
       "      <td>1000 E 41ST ST</td>\n",
       "      <td>NaN</td>\n",
       "      <td>NaN</td>\n",
       "      <td>NaN</td>\n",
       "      <td>NaN</td>\n",
       "      <td>NaN</td>\n",
       "      <td>NaN</td>\n",
       "      <td>NaN</td>\n",
       "      <td>NaN</td>\n",
       "      <td>NaN</td>\n",
       "      <td>NaN</td>\n",
       "      <td>NaN</td>\n",
       "      <td>NaN</td>\n",
       "      <td>NaN</td>\n",
       "      <td>NaN</td>\n",
       "      <td>NaN</td>\n",
       "      <td>NaN</td>\n",
       "      <td>NaN</td>\n",
       "    </tr>\n",
       "    <tr>\n",
       "      <th>3</th>\n",
       "      <td>Austin TX 78751</td>\n",
       "      <td>NaN</td>\n",
       "      <td>NaN</td>\n",
       "      <td>NaN</td>\n",
       "      <td>NaN</td>\n",
       "      <td>NaN</td>\n",
       "      <td>NaN</td>\n",
       "      <td>NaN</td>\n",
       "      <td>NaN</td>\n",
       "      <td>NaN</td>\n",
       "      <td>NaN</td>\n",
       "      <td>NaN</td>\n",
       "      <td>NaN</td>\n",
       "      <td>NaN</td>\n",
       "      <td>NaN</td>\n",
       "      <td>NaN</td>\n",
       "      <td>NaN</td>\n",
       "      <td>NaN</td>\n",
       "    </tr>\n",
       "    <tr>\n",
       "      <th>4</th>\n",
       "      <td>(30.298356 -97.719647)</td>\n",
       "      <td>3.02</td>\n",
       "      <td>2014-07-29 00:00:00</td>\n",
       "      <td>Cleared by Arrest</td>\n",
       "      <td>9.0</td>\n",
       "      <td>THEFT BY SHOPLIFTING</td>\n",
       "      <td>B</td>\n",
       "      <td>30.298356</td>\n",
       "      <td>(30.298356-97.719647)</td>\n",
       "      <td>1000 E 41ST ST</td>\n",
       "      <td>-97.719647</td>\n",
       "      <td>Theft: Shoplifting</td>\n",
       "      <td>2014-04-04 00:00:00</td>\n",
       "      <td>2.014941e+09</td>\n",
       "      <td>3121345.0</td>\n",
       "      <td>10082705.0</td>\n",
       "      <td>2014.0</td>\n",
       "      <td>78751.0</td>\n",
       "    </tr>\n",
       "  </tbody>\n",
       "</table>\n",
       "</div>"
      ],
      "text/plain": [
       "                                address census_tract       clearance_date  \\\n",
       "0    2620 RIO GRANDE ST Austin TX 78705         6.03  2015-12-14 00:00:00   \n",
       "1  9500 S IH 35 SVRD SB Austin TX 78748        24.21  2015-09-14 00:00:00   \n",
       "2                        1000 E 41ST ST          NaN                  NaN   \n",
       "3                       Austin TX 78751          NaN                  NaN   \n",
       "4                (30.298356 -97.719647)         3.02  2014-07-29 00:00:00   \n",
       "\n",
       "    clearance_status  council_district_code           description district  \\\n",
       "0        Not cleared                    9.0                 THEFT        B   \n",
       "1  Cleared by Arrest                    5.0  THEFT BY SHOPLIFTING        F   \n",
       "2                NaN                    NaN                   NaN      NaN   \n",
       "3                NaN                    NaN                   NaN      NaN   \n",
       "4  Cleared by Arrest                    9.0  THEFT BY SHOPLIFTING        B   \n",
       "\n",
       "    latitude               location  location_description  longitude  \\\n",
       "0        NaN                    NaN    2620 RIO GRANDE ST        NaN   \n",
       "1        NaN                    NaN  9500 S IH 35 SVRD SB        NaN   \n",
       "2        NaN                    NaN                   NaN        NaN   \n",
       "3        NaN                    NaN                   NaN        NaN   \n",
       "4  30.298356  (30.298356-97.719647)        1000 E 41ST ST -97.719647   \n",
       "\n",
       "         primary_type            timestamp    unique_key  x_coordinate  \\\n",
       "0               Theft  2015-12-13 00:00:00  2.015505e+10     3113531.0   \n",
       "1               Theft  2015-09-03 00:00:00  2.015246e+10     3099459.0   \n",
       "2                 NaN                  NaN           NaN           NaN   \n",
       "3                 NaN                  NaN           NaN           NaN   \n",
       "4  Theft: Shoplifting  2014-04-04 00:00:00  2.014941e+09     3121345.0   \n",
       "\n",
       "   y_coordinate    year  zipcode  \n",
       "0    10079579.0  2015.0  78705.0  \n",
       "1    10032098.0  2015.0  78748.0  \n",
       "2           NaN     NaN      NaN  \n",
       "3           NaN     NaN      NaN  \n",
       "4    10082705.0  2014.0  78751.0  "
      ]
     },
     "execution_count": 58,
     "metadata": {},
     "output_type": "execute_result"
    }
   ],
   "source": [
    "df = pd.read_csv('austin_crime.csv')\n",
    "df.head()"
   ]
  },
  {
   "cell_type": "markdown",
   "metadata": {},
   "source": [
    "#### Descriptive Statistics"
   ]
  },
  {
   "cell_type": "code",
   "execution_count": 59,
   "metadata": {},
   "outputs": [
    {
     "data": {
      "text/html": [
       "<div>\n",
       "<style scoped>\n",
       "    .dataframe tbody tr th:only-of-type {\n",
       "        vertical-align: middle;\n",
       "    }\n",
       "\n",
       "    .dataframe tbody tr th {\n",
       "        vertical-align: top;\n",
       "    }\n",
       "\n",
       "    .dataframe thead th {\n",
       "        text-align: right;\n",
       "    }\n",
       "</style>\n",
       "<table border=\"1\" class=\"dataframe\">\n",
       "  <thead>\n",
       "    <tr style=\"text-align: right;\">\n",
       "      <th></th>\n",
       "      <th>address</th>\n",
       "      <th>census_tract</th>\n",
       "      <th>clearance_date</th>\n",
       "      <th>clearance_status</th>\n",
       "      <th>council_district_code</th>\n",
       "      <th>description</th>\n",
       "      <th>district</th>\n",
       "      <th>latitude</th>\n",
       "      <th>location</th>\n",
       "      <th>location_description</th>\n",
       "      <th>longitude</th>\n",
       "      <th>primary_type</th>\n",
       "      <th>timestamp</th>\n",
       "      <th>unique_key</th>\n",
       "      <th>x_coordinate</th>\n",
       "      <th>y_coordinate</th>\n",
       "      <th>year</th>\n",
       "      <th>zipcode</th>\n",
       "    </tr>\n",
       "  </thead>\n",
       "  <tbody>\n",
       "    <tr>\n",
       "      <th>count</th>\n",
       "      <td>159464</td>\n",
       "      <td>84528</td>\n",
       "      <td>81489</td>\n",
       "      <td>81480</td>\n",
       "      <td>8.445600e+04</td>\n",
       "      <td>84884</td>\n",
       "      <td>84871</td>\n",
       "      <td>34500.000000</td>\n",
       "      <td>34500</td>\n",
       "      <td>78172</td>\n",
       "      <td>34500.000000</td>\n",
       "      <td>79214</td>\n",
       "      <td>73544</td>\n",
       "      <td>7.354400e+04</td>\n",
       "      <td>7.227300e+04</td>\n",
       "      <td>7.227300e+04</td>\n",
       "      <td>73544.000000</td>\n",
       "      <td>73201.000000</td>\n",
       "    </tr>\n",
       "    <tr>\n",
       "      <th>unique</th>\n",
       "      <td>49070</td>\n",
       "      <td>573</td>\n",
       "      <td>6469</td>\n",
       "      <td>4072</td>\n",
       "      <td>NaN</td>\n",
       "      <td>46</td>\n",
       "      <td>53</td>\n",
       "      <td>NaN</td>\n",
       "      <td>14864</td>\n",
       "      <td>28897</td>\n",
       "      <td>NaN</td>\n",
       "      <td>18</td>\n",
       "      <td>730</td>\n",
       "      <td>NaN</td>\n",
       "      <td>NaN</td>\n",
       "      <td>NaN</td>\n",
       "      <td>NaN</td>\n",
       "      <td>NaN</td>\n",
       "    </tr>\n",
       "    <tr>\n",
       "      <th>top</th>\n",
       "      <td>Breaking &amp; Entering</td>\n",
       "      <td>11</td>\n",
       "      <td>2015-12-08 00:00:00</td>\n",
       "      <td>Not cleared</td>\n",
       "      <td>NaN</td>\n",
       "      <td>THEFT</td>\n",
       "      <td>D</td>\n",
       "      <td>NaN</td>\n",
       "      <td>(30.338618-97.692566)</td>\n",
       "      <td>1030 NORWOOD PARK BLVD</td>\n",
       "      <td>NaN</td>\n",
       "      <td>Theft</td>\n",
       "      <td>2015-07-24 00:00:00</td>\n",
       "      <td>NaN</td>\n",
       "      <td>NaN</td>\n",
       "      <td>NaN</td>\n",
       "      <td>NaN</td>\n",
       "      <td>NaN</td>\n",
       "    </tr>\n",
       "    <tr>\n",
       "      <th>freq</th>\n",
       "      <td>5670</td>\n",
       "      <td>3761</td>\n",
       "      <td>289</td>\n",
       "      <td>62471</td>\n",
       "      <td>NaN</td>\n",
       "      <td>21782</td>\n",
       "      <td>11346</td>\n",
       "      <td>NaN</td>\n",
       "      <td>775</td>\n",
       "      <td>1352</td>\n",
       "      <td>NaN</td>\n",
       "      <td>28274</td>\n",
       "      <td>160</td>\n",
       "      <td>NaN</td>\n",
       "      <td>NaN</td>\n",
       "      <td>NaN</td>\n",
       "      <td>NaN</td>\n",
       "      <td>NaN</td>\n",
       "    </tr>\n",
       "    <tr>\n",
       "      <th>mean</th>\n",
       "      <td>NaN</td>\n",
       "      <td>NaN</td>\n",
       "      <td>NaN</td>\n",
       "      <td>NaN</td>\n",
       "      <td>6.755481e+05</td>\n",
       "      <td>NaN</td>\n",
       "      <td>NaN</td>\n",
       "      <td>30.292623</td>\n",
       "      <td>NaN</td>\n",
       "      <td>NaN</td>\n",
       "      <td>-97.737027</td>\n",
       "      <td>NaN</td>\n",
       "      <td>NaN</td>\n",
       "      <td>1.810218e+10</td>\n",
       "      <td>3.115753e+06</td>\n",
       "      <td>1.008020e+07</td>\n",
       "      <td>2014.524489</td>\n",
       "      <td>78732.873390</td>\n",
       "    </tr>\n",
       "    <tr>\n",
       "      <th>std</th>\n",
       "      <td>NaN</td>\n",
       "      <td>NaN</td>\n",
       "      <td>NaN</td>\n",
       "      <td>NaN</td>\n",
       "      <td>2.520346e+06</td>\n",
       "      <td>NaN</td>\n",
       "      <td>NaN</td>\n",
       "      <td>0.075921</td>\n",
       "      <td>NaN</td>\n",
       "      <td>NaN</td>\n",
       "      <td>0.046538</td>\n",
       "      <td>NaN</td>\n",
       "      <td>NaN</td>\n",
       "      <td>2.037991e+10</td>\n",
       "      <td>1.487193e+04</td>\n",
       "      <td>2.857694e+04</td>\n",
       "      <td>0.499403</td>\n",
       "      <td>26.069126</td>\n",
       "    </tr>\n",
       "    <tr>\n",
       "      <th>min</th>\n",
       "      <td>NaN</td>\n",
       "      <td>NaN</td>\n",
       "      <td>NaN</td>\n",
       "      <td>NaN</td>\n",
       "      <td>1.000000e+00</td>\n",
       "      <td>NaN</td>\n",
       "      <td>NaN</td>\n",
       "      <td>30.088110</td>\n",
       "      <td>NaN</td>\n",
       "      <td>NaN</td>\n",
       "      <td>-97.958825</td>\n",
       "      <td>NaN</td>\n",
       "      <td>NaN</td>\n",
       "      <td>2.014200e+04</td>\n",
       "      <td>3.040396e+06</td>\n",
       "      <td>1.001032e+07</td>\n",
       "      <td>2014.000000</td>\n",
       "      <td>78610.000000</td>\n",
       "    </tr>\n",
       "    <tr>\n",
       "      <th>25%</th>\n",
       "      <td>NaN</td>\n",
       "      <td>NaN</td>\n",
       "      <td>NaN</td>\n",
       "      <td>NaN</td>\n",
       "      <td>3.000000e+00</td>\n",
       "      <td>NaN</td>\n",
       "      <td>NaN</td>\n",
       "      <td>30.232364</td>\n",
       "      <td>NaN</td>\n",
       "      <td>NaN</td>\n",
       "      <td>-97.760883</td>\n",
       "      <td>NaN</td>\n",
       "      <td>NaN</td>\n",
       "      <td>2.014320e+10</td>\n",
       "      <td>3.107626e+06</td>\n",
       "      <td>1.005777e+07</td>\n",
       "      <td>2014.000000</td>\n",
       "      <td>78719.000000</td>\n",
       "    </tr>\n",
       "    <tr>\n",
       "      <th>50%</th>\n",
       "      <td>NaN</td>\n",
       "      <td>NaN</td>\n",
       "      <td>NaN</td>\n",
       "      <td>NaN</td>\n",
       "      <td>5.000000e+00</td>\n",
       "      <td>NaN</td>\n",
       "      <td>NaN</td>\n",
       "      <td>30.278712</td>\n",
       "      <td>NaN</td>\n",
       "      <td>NaN</td>\n",
       "      <td>-97.733608</td>\n",
       "      <td>NaN</td>\n",
       "      <td>NaN</td>\n",
       "      <td>2.014505e+10</td>\n",
       "      <td>3.116518e+06</td>\n",
       "      <td>1.007602e+07</td>\n",
       "      <td>2015.000000</td>\n",
       "      <td>78744.000000</td>\n",
       "    </tr>\n",
       "    <tr>\n",
       "      <th>75%</th>\n",
       "      <td>NaN</td>\n",
       "      <td>NaN</td>\n",
       "      <td>NaN</td>\n",
       "      <td>NaN</td>\n",
       "      <td>9.000000e+00</td>\n",
       "      <td>NaN</td>\n",
       "      <td>NaN</td>\n",
       "      <td>30.353641</td>\n",
       "      <td>NaN</td>\n",
       "      <td>NaN</td>\n",
       "      <td>-97.704639</td>\n",
       "      <td>NaN</td>\n",
       "      <td>NaN</td>\n",
       "      <td>2.015500e+10</td>\n",
       "      <td>3.126112e+06</td>\n",
       "      <td>1.010260e+07</td>\n",
       "      <td>2015.000000</td>\n",
       "      <td>78752.000000</td>\n",
       "    </tr>\n",
       "    <tr>\n",
       "      <th>max</th>\n",
       "      <td>NaN</td>\n",
       "      <td>NaN</td>\n",
       "      <td>NaN</td>\n",
       "      <td>NaN</td>\n",
       "      <td>1.015948e+07</td>\n",
       "      <td>NaN</td>\n",
       "      <td>NaN</td>\n",
       "      <td>30.512564</td>\n",
       "      <td>NaN</td>\n",
       "      <td>NaN</td>\n",
       "      <td>-97.580845</td>\n",
       "      <td>NaN</td>\n",
       "      <td>NaN</td>\n",
       "      <td>2.015153e+12</td>\n",
       "      <td>3.165466e+06</td>\n",
       "      <td>1.015961e+07</td>\n",
       "      <td>2015.000000</td>\n",
       "      <td>78759.000000</td>\n",
       "    </tr>\n",
       "  </tbody>\n",
       "</table>\n",
       "</div>"
      ],
      "text/plain": [
       "                    address census_tract       clearance_date  \\\n",
       "count                159464        84528                81489   \n",
       "unique                49070          573                 6469   \n",
       "top     Breaking & Entering           11  2015-12-08 00:00:00   \n",
       "freq                   5670         3761                  289   \n",
       "mean                    NaN          NaN                  NaN   \n",
       "std                     NaN          NaN                  NaN   \n",
       "min                     NaN          NaN                  NaN   \n",
       "25%                     NaN          NaN                  NaN   \n",
       "50%                     NaN          NaN                  NaN   \n",
       "75%                     NaN          NaN                  NaN   \n",
       "max                     NaN          NaN                  NaN   \n",
       "\n",
       "       clearance_status  council_district_code description district  \\\n",
       "count             81480           8.445600e+04       84884    84871   \n",
       "unique             4072                    NaN          46       53   \n",
       "top         Not cleared                    NaN       THEFT        D   \n",
       "freq              62471                    NaN       21782    11346   \n",
       "mean                NaN           6.755481e+05         NaN      NaN   \n",
       "std                 NaN           2.520346e+06         NaN      NaN   \n",
       "min                 NaN           1.000000e+00         NaN      NaN   \n",
       "25%                 NaN           3.000000e+00         NaN      NaN   \n",
       "50%                 NaN           5.000000e+00         NaN      NaN   \n",
       "75%                 NaN           9.000000e+00         NaN      NaN   \n",
       "max                 NaN           1.015948e+07         NaN      NaN   \n",
       "\n",
       "            latitude               location    location_description  \\\n",
       "count   34500.000000                  34500                   78172   \n",
       "unique           NaN                  14864                   28897   \n",
       "top              NaN  (30.338618-97.692566)  1030 NORWOOD PARK BLVD   \n",
       "freq             NaN                    775                    1352   \n",
       "mean       30.292623                    NaN                     NaN   \n",
       "std         0.075921                    NaN                     NaN   \n",
       "min        30.088110                    NaN                     NaN   \n",
       "25%        30.232364                    NaN                     NaN   \n",
       "50%        30.278712                    NaN                     NaN   \n",
       "75%        30.353641                    NaN                     NaN   \n",
       "max        30.512564                    NaN                     NaN   \n",
       "\n",
       "           longitude primary_type            timestamp    unique_key  \\\n",
       "count   34500.000000        79214                73544  7.354400e+04   \n",
       "unique           NaN           18                  730           NaN   \n",
       "top              NaN        Theft  2015-07-24 00:00:00           NaN   \n",
       "freq             NaN        28274                  160           NaN   \n",
       "mean      -97.737027          NaN                  NaN  1.810218e+10   \n",
       "std         0.046538          NaN                  NaN  2.037991e+10   \n",
       "min       -97.958825          NaN                  NaN  2.014200e+04   \n",
       "25%       -97.760883          NaN                  NaN  2.014320e+10   \n",
       "50%       -97.733608          NaN                  NaN  2.014505e+10   \n",
       "75%       -97.704639          NaN                  NaN  2.015500e+10   \n",
       "max       -97.580845          NaN                  NaN  2.015153e+12   \n",
       "\n",
       "        x_coordinate  y_coordinate          year       zipcode  \n",
       "count   7.227300e+04  7.227300e+04  73544.000000  73201.000000  \n",
       "unique           NaN           NaN           NaN           NaN  \n",
       "top              NaN           NaN           NaN           NaN  \n",
       "freq             NaN           NaN           NaN           NaN  \n",
       "mean    3.115753e+06  1.008020e+07   2014.524489  78732.873390  \n",
       "std     1.487193e+04  2.857694e+04      0.499403     26.069126  \n",
       "min     3.040396e+06  1.001032e+07   2014.000000  78610.000000  \n",
       "25%     3.107626e+06  1.005777e+07   2014.000000  78719.000000  \n",
       "50%     3.116518e+06  1.007602e+07   2015.000000  78744.000000  \n",
       "75%     3.126112e+06  1.010260e+07   2015.000000  78752.000000  \n",
       "max     3.165466e+06  1.015961e+07   2015.000000  78759.000000  "
      ]
     },
     "execution_count": 59,
     "metadata": {},
     "output_type": "execute_result"
    }
   ],
   "source": [
    "df.describe(include='all')"
   ]
  },
  {
   "cell_type": "markdown",
   "metadata": {},
   "source": [
    "#### Missing value imputation"
   ]
  },
  {
   "cell_type": "code",
   "execution_count": 60,
   "metadata": {},
   "outputs": [
    {
     "data": {
      "text/plain": [
       "address                       0\n",
       "census_tract              74936\n",
       "clearance_date            77975\n",
       "clearance_status          77984\n",
       "council_district_code     75008\n",
       "description               74580\n",
       "district                  74593\n",
       "latitude                 124964\n",
       "location                 124964\n",
       "location_description      81292\n",
       "longitude                124964\n",
       "primary_type              80250\n",
       "timestamp                 85920\n",
       "unique_key                85920\n",
       "x_coordinate              87191\n",
       "y_coordinate              87191\n",
       "year                      85920\n",
       "zipcode                   86263\n",
       "dtype: int64"
      ]
     },
     "execution_count": 60,
     "metadata": {},
     "output_type": "execute_result"
    }
   ],
   "source": [
    "df.isnull().sum()"
   ]
  },
  {
   "cell_type": "markdown",
   "metadata": {},
   "source": [
    "There are no need to imputate clearance_status, so it's a good thing!"
   ]
  },
  {
   "cell_type": "markdown",
   "metadata": {},
   "source": [
    "#### Graphical representation"
   ]
  },
  {
   "cell_type": "code",
   "execution_count": 61,
   "metadata": {
    "scrolled": true
   },
   "outputs": [
    {
     "data": {
      "text/plain": [
       "Not cleared             62471\n",
       "Cleared by Arrest       11275\n",
       "Cleared by Exception     2073\n",
       "Name: clearance_status, dtype: int64"
      ]
     },
     "execution_count": 61,
     "metadata": {},
     "output_type": "execute_result"
    }
   ],
   "source": [
    "df = df.dropna(subset=['clearance_status'])\n",
    "df = df[df['clearance_status'].apply(lambda x: x in ['Not cleared', 'Cleared by Arrest','Cleared by Exception'])]\n",
    "df['clearance_status'].value_counts()"
   ]
  },
  {
   "cell_type": "markdown",
   "metadata": {},
   "source": [
    "# Are there any clear crime type, seasonal, hourly trends in clearance status?\n",
    "搞不出hourly trend 数据不支持，很多都是00:00:00.。。可能得小改一下问题为： **Are there any clear crime type, seasonal trends in clearance status?**"
   ]
  },
  {
   "cell_type": "code",
   "execution_count": 62,
   "metadata": {},
   "outputs": [
    {
     "data": {
      "text/plain": [
       "Timestamp('2015-12-14 00:00:00')"
      ]
     },
     "execution_count": 62,
     "metadata": {},
     "output_type": "execute_result"
    }
   ],
   "source": [
    "pd.to_datetime('2015-12-14 00:00:00')"
   ]
  },
  {
   "cell_type": "code",
   "execution_count": 63,
   "metadata": {},
   "outputs": [],
   "source": [
    "def convert_datetime(x):\n",
    "    try: \n",
    "        return pd.to_datetime(x)\n",
    "    except:\n",
    "        return np.nan"
   ]
  },
  {
   "cell_type": "code",
   "execution_count": 64,
   "metadata": {},
   "outputs": [
    {
     "data": {
      "text/plain": [
       "array(['Not cleared', 'Cleared by Arrest', 'Cleared by Exception'],\n",
       "      dtype=object)"
      ]
     },
     "execution_count": 64,
     "metadata": {},
     "output_type": "execute_result"
    }
   ],
   "source": [
    "df['clearance_status'].unique()"
   ]
  },
  {
   "cell_type": "code",
   "execution_count": 65,
   "metadata": {
    "code_folding": []
   },
   "outputs": [],
   "source": [
    "# add in a new feature month.\n",
    "df['month'] = df['clearance_date'].apply(convert_datetime).dt.month"
   ]
  },
  {
   "cell_type": "code",
   "execution_count": 66,
   "metadata": {},
   "outputs": [],
   "source": [
    "# new seasaonal feature -- category based on month -> season(fall, spring, summer, winter)\n",
    "df['season'] = df['month'].apply(lambda x: 'winter' if x in [12, 1, 2] else 'spring' if x in [3, 4, 5] else 'summer' if x in [6, 7, 8] else 'fall' if x in [9, 10, 11] else np.NaN)"
   ]
  },
  {
   "cell_type": "code",
   "execution_count": 67,
   "metadata": {},
   "outputs": [
    {
     "data": {
      "text/plain": [
       "0         winter\n",
       "1           fall\n",
       "4         summer\n",
       "5         winter\n",
       "6         summer\n",
       "           ...  \n",
       "159453    spring\n",
       "159456    winter\n",
       "159459    summer\n",
       "159460    winter\n",
       "159463    summer\n",
       "Name: season, Length: 75819, dtype: object"
      ]
     },
     "execution_count": 67,
     "metadata": {},
     "output_type": "execute_result"
    }
   ],
   "source": [
    "df['season']"
   ]
  },
  {
   "cell_type": "code",
   "execution_count": 68,
   "metadata": {},
   "outputs": [
    {
     "data": {
      "text/html": [
       "<div>\n",
       "<style scoped>\n",
       "    .dataframe tbody tr th:only-of-type {\n",
       "        vertical-align: middle;\n",
       "    }\n",
       "\n",
       "    .dataframe tbody tr th {\n",
       "        vertical-align: top;\n",
       "    }\n",
       "\n",
       "    .dataframe thead tr th {\n",
       "        text-align: left;\n",
       "    }\n",
       "\n",
       "    .dataframe thead tr:last-of-type th {\n",
       "        text-align: right;\n",
       "    }\n",
       "</style>\n",
       "<table border=\"1\" class=\"dataframe\">\n",
       "  <thead>\n",
       "    <tr>\n",
       "      <th></th>\n",
       "      <th colspan=\"3\" halign=\"left\">count</th>\n",
       "    </tr>\n",
       "    <tr>\n",
       "      <th>clearance_status</th>\n",
       "      <th>Cleared by Arrest</th>\n",
       "      <th>Cleared by Exception</th>\n",
       "      <th>Not cleared</th>\n",
       "    </tr>\n",
       "    <tr>\n",
       "      <th>season</th>\n",
       "      <th></th>\n",
       "      <th></th>\n",
       "      <th></th>\n",
       "    </tr>\n",
       "  </thead>\n",
       "  <tbody>\n",
       "    <tr>\n",
       "      <th>fall</th>\n",
       "      <td>2629</td>\n",
       "      <td>488</td>\n",
       "      <td>15234</td>\n",
       "    </tr>\n",
       "    <tr>\n",
       "      <th>spring</th>\n",
       "      <td>2768</td>\n",
       "      <td>509</td>\n",
       "      <td>15454</td>\n",
       "    </tr>\n",
       "    <tr>\n",
       "      <th>summer</th>\n",
       "      <td>3063</td>\n",
       "      <td>580</td>\n",
       "      <td>15958</td>\n",
       "    </tr>\n",
       "    <tr>\n",
       "      <th>winter</th>\n",
       "      <td>2815</td>\n",
       "      <td>496</td>\n",
       "      <td>15825</td>\n",
       "    </tr>\n",
       "  </tbody>\n",
       "</table>\n",
       "</div>"
      ],
      "text/plain": [
       "                             count                                 \n",
       "clearance_status Cleared by Arrest Cleared by Exception Not cleared\n",
       "season                                                             \n",
       "fall                          2629                  488       15234\n",
       "spring                        2768                  509       15454\n",
       "summer                        3063                  580       15958\n",
       "winter                        2815                  496       15825"
      ]
     },
     "execution_count": 68,
     "metadata": {},
     "output_type": "execute_result"
    }
   ],
   "source": [
    "df.groupby(['clearance_status', 'season']).size().to_frame().reset_index().rename(columns={0:'count'}).pivot(index = 'season', columns = 'clearance_status')"
   ]
  },
  {
   "cell_type": "code",
   "execution_count": 69,
   "metadata": {},
   "outputs": [
    {
     "data": {
      "text/plain": [
       "<AxesSubplot:xlabel='None-clearance_status', ylabel='None-clearance_status'>"
      ]
     },
     "execution_count": 69,
     "metadata": {},
     "output_type": "execute_result"
    },
    {
     "data": {
      "image/png": "[encoded data removed]",
      "text/plain": [
       "<Figure size 432x288 with 2 Axes>"
      ]
     },
     "metadata": {
      "needs_background": "light"
     },
     "output_type": "display_data"
    }
   ],
   "source": [
    "sns.heatmap(df.groupby(['clearance_status', 'season']).size().to_frame().reset_index().rename(columns={0:'count'}).pivot(index = 'season', columns = 'clearance_status').corr())"
   ]
  },
  {
   "cell_type": "code",
   "execution_count": 70,
   "metadata": {},
   "outputs": [
    {
     "data": {
      "image/png": "[encoded data removed]",
      "text/plain": [
       "<Figure size 432x288 with 1 Axes>"
      ]
     },
     "metadata": {
      "needs_background": "light"
     },
     "output_type": "display_data"
    }
   ],
   "source": [
    "status_counts = df['clearance_status'].value_counts()\n",
    "y_pos = np.arange(len(status_counts))\n",
    "objects = status_counts.index\n",
    "performance = status_counts.values\n",
    "\n",
    "plt.barh(y_pos, performance, align='center', alpha=0.5)\n",
    "plt.yticks(y_pos, objects)\n",
    "plt.xlabel('Counts')\n",
    "plt.title('Different Crime Types Counts')\n",
    "plt.show()"
   ]
  },
  {
   "cell_type": "code",
   "execution_count": 71,
   "metadata": {},
   "outputs": [
    {
     "data": {
      "text/plain": [
       "Theft                                           26673\n",
       "Theft: All Other Larceny                        12961\n",
       "Theft: BOV                                      10300\n",
       "Burglary /                                       5546\n",
       "Burglary                                         4852\n",
       "Auto Theft                                       4164\n",
       "Theft: Shoplifting                               3901\n",
       "Agg Assault                                      1839\n",
       "Aggravated Assault                               1832\n",
       "Robbery                                          1669\n",
       "Rape                                             1006\n",
       "Theft: Pocket Picking                             431\n",
       "Theft: Auto Parts                                 228\n",
       "Theft: from Building                              217\n",
       "Theft: Coin Op Machine                            150\n",
       "Homicide: Murder & Nonnegligent Manslaughter       25\n",
       "Murder                                             18\n",
       "Theft: Purse Snatching                              7\n",
       "Name: primary_type, dtype: int64"
      ]
     },
     "execution_count": 71,
     "metadata": {},
     "output_type": "execute_result"
    }
   ],
   "source": [
    "df['primary_type'].value_counts()"
   ]
  },
  {
   "cell_type": "code",
   "execution_count": 72,
   "metadata": {},
   "outputs": [],
   "source": [
    "def type_convert(x):\n",
    "    if pd.isna(x):\n",
    "        return 'Others'\n",
    "    elif 'Theft' in x:\n",
    "        return 'Theft'\n",
    "    elif 'Burglary'in x:\n",
    "        return 'Burglary'\n",
    "    elif 'Murder' in x:\n",
    "        return 'Murder'\n",
    "    elif 'Assault' in x:\n",
    "        return 'Assault'\n",
    "    else:\n",
    "        return x\n",
    "        \n",
    "\n",
    "df['primary_type'] = df['primary_type'].apply(type_convert)"
   ]
  },
  {
   "cell_type": "code",
   "execution_count": 73,
   "metadata": {},
   "outputs": [
    {
     "data": {
      "image/png": "[encoded data removed]",
      "text/plain": [
       "<Figure size 432x288 with 1 Axes>"
      ]
     },
     "metadata": {
      "needs_background": "light"
     },
     "output_type": "display_data"
    }
   ],
   "source": [
    "# create data\n",
    "grouped_data = df.groupby(['primary_type', 'clearance_status']).size()\\\n",
    "                 .to_frame().rename(columns={0:'counts'}).reset_index()\n",
    "\n",
    "x = np.arange(len(grouped_data['primary_type'].unique()))\n",
    "y1 = grouped_data[grouped_data['clearance_status'] == 'Cleared by Arrest']['counts'].values\n",
    "y2 = grouped_data[grouped_data['clearance_status'] == 'Cleared by Exception']['counts'].values\n",
    "y3 = grouped_data[grouped_data['clearance_status'] == 'Not cleared']['counts'].values\n",
    "width = 0.2\n",
    "  \n",
    "# plot data in grouped manner of bar type\n",
    "plt.bar(x-0.2, y1, width, color='cyan')\n",
    "plt.bar(x, y2, width, color='orange')\n",
    "plt.bar(x+0.2, y3, width, color='green')\n",
    "plt.xticks(x, grouped_data['primary_type'].unique())\n",
    "plt.xlabel(\"Primary Types\")\n",
    "plt.ylabel(\"Cases\")\n",
    "plt.legend([\"Cleared by Arrest\", \"Cleared by Exception\", \"Not cleared\"])\n",
    "plt.show()"
   ]
  },
  {
   "cell_type": "code",
   "execution_count": 74,
   "metadata": {},
   "outputs": [
    {
     "data": {
      "text/plain": [
       "<matplotlib.legend.Legend at 0x7f02a1661400>"
      ]
     },
     "execution_count": 74,
     "metadata": {},
     "output_type": "execute_result"
    },
    {
     "data": {
      "image/png": "[encoded data removed]",
      "text/plain": [
       "<Figure size 432x288 with 1 Axes>"
      ]
     },
     "metadata": {
      "needs_background": "light"
     },
     "output_type": "display_data"
    }
   ],
   "source": [
    "df['x_standardized'] = ((df['x_coordinate'] - np.mean(df['x_coordinate'])) / np.std(df['x_coordinate'])).fillna(0)\n",
    "df['y_standardized'] = ((df['y_coordinate'] - np.mean(df['y_coordinate'])) / np.std(df['y_coordinate'])).fillna(0)\n",
    "\n",
    "groups = df.groupby(\"clearance_status\")\n",
    "for name, group in groups:\n",
    "    plt.plot(group[\"x_standardized\"], group[\"y_standardized\"], marker=\"o\", linestyle=\"\", label=name, alpha = 0.1)\n",
    "plt.legend()"
   ]
  },
  {
   "cell_type": "markdown",
   "metadata": {},
   "source": [
    "## Preliminary results\n",
    "\n",
    "### Clean data for training"
   ]
  },
  {
   "cell_type": "code",
   "execution_count": 75,
   "metadata": {},
   "outputs": [],
   "source": [
    "from sklearn.model_selection import train_test_split, GridSearchCV\n",
    "from sklearn.linear_model import LogisticRegression\n",
    "from sklearn.pipeline import Pipeline\n",
    "from sklearn.preprocessing import OneHotEncoder\n",
    "from sklearn.compose import ColumnTransformer\n",
    "from sklearn.metrics import accuracy_score\n",
    "from sklearn.tree import DecisionTreeClassifier"
   ]
  },
  {
   "cell_type": "code",
   "execution_count": 76,
   "metadata": {},
   "outputs": [],
   "source": [
    "import warnings\n",
    "warnings.filterwarnings(\"ignore\")"
   ]
  },
  {
   "cell_type": "code",
   "execution_count": 78,
   "metadata": {},
   "outputs": [],
   "source": [
    "# transform date columns to datatime object\n",
    "df = df.assign(clearance_date = pd.to_datetime(df.clearance_date), timestamp = pd.to_datetime(df.timestamp))"
   ]
  },
  {
   "cell_type": "code",
   "execution_count": 79,
   "metadata": {},
   "outputs": [],
   "source": [
    "def clear_time(row):\n",
    "    if (row['year'] > 0) == False :\n",
    "        row['year'] = row['clearance_date'].year\n",
    "    return row\n",
    "\n",
    "df = df.apply(clear_time, axis = 1)"
   ]
  },
  {
   "cell_type": "code",
   "execution_count": 80,
   "metadata": {},
   "outputs": [],
   "source": [
    "def description_convert(x):\n",
    "    if pd.isna(x):\n",
    "        return 'others'\n",
    "    elif 'theft' in x:\n",
    "        return 'theft'\n",
    "    elif 'burglary'in x:\n",
    "        return 'burglary'\n",
    "    elif 'murder' in x:\n",
    "        return 'murder'\n",
    "    elif 'assault' in x or 'aslt' in x:\n",
    "        return 'assault'\n",
    "    elif 'robbery' in x:\n",
    "        return 'robbery'\n",
    "    elif 'rape' in x:\n",
    "        return 'rape'\n",
    "    elif 'deadly conduct' in x:\n",
    "        return 'deadly conduct'\n",
    "    else:\n",
    "        return x"
   ]
  },
  {
   "cell_type": "code",
   "execution_count": 81,
   "metadata": {},
   "outputs": [
    {
     "data": {
      "text/html": [
       "<div>\n",
       "<style scoped>\n",
       "    .dataframe tbody tr th:only-of-type {\n",
       "        vertical-align: middle;\n",
       "    }\n",
       "\n",
       "    .dataframe tbody tr th {\n",
       "        vertical-align: top;\n",
       "    }\n",
       "\n",
       "    .dataframe thead th {\n",
       "        text-align: right;\n",
       "    }\n",
       "</style>\n",
       "<table border=\"1\" class=\"dataframe\">\n",
       "  <thead>\n",
       "    <tr style=\"text-align: right;\">\n",
       "      <th></th>\n",
       "      <th>census_tract</th>\n",
       "      <th>clearance_status</th>\n",
       "      <th>council_district_code</th>\n",
       "      <th>description</th>\n",
       "      <th>district</th>\n",
       "      <th>latitude</th>\n",
       "      <th>longitude</th>\n",
       "      <th>primary_type</th>\n",
       "      <th>year</th>\n",
       "      <th>month</th>\n",
       "      <th>season</th>\n",
       "      <th>x_standardized</th>\n",
       "      <th>y_standardized</th>\n",
       "    </tr>\n",
       "  </thead>\n",
       "  <tbody>\n",
       "    <tr>\n",
       "      <th>0</th>\n",
       "      <td>6.03</td>\n",
       "      <td>Not cleared</td>\n",
       "      <td>9.0</td>\n",
       "      <td>theft</td>\n",
       "      <td>B</td>\n",
       "      <td>0.000000</td>\n",
       "      <td>0.000000</td>\n",
       "      <td>Theft</td>\n",
       "      <td>2015.0</td>\n",
       "      <td>12</td>\n",
       "      <td>winter</td>\n",
       "      <td>-0.153236</td>\n",
       "      <td>-0.022620</td>\n",
       "    </tr>\n",
       "    <tr>\n",
       "      <th>1</th>\n",
       "      <td>24.21</td>\n",
       "      <td>Cleared by Arrest</td>\n",
       "      <td>5.0</td>\n",
       "      <td>theft</td>\n",
       "      <td>F</td>\n",
       "      <td>0.000000</td>\n",
       "      <td>0.000000</td>\n",
       "      <td>Theft</td>\n",
       "      <td>2015.0</td>\n",
       "      <td>9</td>\n",
       "      <td>fall</td>\n",
       "      <td>-1.102416</td>\n",
       "      <td>-1.689434</td>\n",
       "    </tr>\n",
       "    <tr>\n",
       "      <th>4</th>\n",
       "      <td>3.02</td>\n",
       "      <td>Cleared by Arrest</td>\n",
       "      <td>9.0</td>\n",
       "      <td>theft</td>\n",
       "      <td>B</td>\n",
       "      <td>30.298356</td>\n",
       "      <td>-97.719647</td>\n",
       "      <td>Theft</td>\n",
       "      <td>2014.0</td>\n",
       "      <td>7</td>\n",
       "      <td>summer</td>\n",
       "      <td>0.373831</td>\n",
       "      <td>0.087118</td>\n",
       "    </tr>\n",
       "    <tr>\n",
       "      <th>5</th>\n",
       "      <td>24.03</td>\n",
       "      <td>Cleared by Arrest</td>\n",
       "      <td>3.0</td>\n",
       "      <td>theft</td>\n",
       "      <td>D</td>\n",
       "      <td>0.000000</td>\n",
       "      <td>0.000000</td>\n",
       "      <td>Theft</td>\n",
       "      <td>2015.0</td>\n",
       "      <td>1</td>\n",
       "      <td>winter</td>\n",
       "      <td>-0.356468</td>\n",
       "      <td>-0.965151</td>\n",
       "    </tr>\n",
       "    <tr>\n",
       "      <th>6</th>\n",
       "      <td>24.13</td>\n",
       "      <td>Not cleared</td>\n",
       "      <td>2.0</td>\n",
       "      <td>burglary</td>\n",
       "      <td>F</td>\n",
       "      <td>0.000000</td>\n",
       "      <td>0.000000</td>\n",
       "      <td>Theft</td>\n",
       "      <td>2015.0</td>\n",
       "      <td>8</td>\n",
       "      <td>summer</td>\n",
       "      <td>-0.053745</td>\n",
       "      <td>-1.297664</td>\n",
       "    </tr>\n",
       "  </tbody>\n",
       "</table>\n",
       "</div>"
      ],
      "text/plain": [
       "  census_tract   clearance_status  council_district_code description district  \\\n",
       "0         6.03        Not cleared                    9.0       theft        B   \n",
       "1        24.21  Cleared by Arrest                    5.0       theft        F   \n",
       "4         3.02  Cleared by Arrest                    9.0       theft        B   \n",
       "5        24.03  Cleared by Arrest                    3.0       theft        D   \n",
       "6        24.13        Not cleared                    2.0    burglary        F   \n",
       "\n",
       "    latitude  longitude primary_type    year  month  season  x_standardized  \\\n",
       "0   0.000000   0.000000        Theft  2015.0     12  winter       -0.153236   \n",
       "1   0.000000   0.000000        Theft  2015.0      9    fall       -1.102416   \n",
       "4  30.298356 -97.719647        Theft  2014.0      7  summer        0.373831   \n",
       "5   0.000000   0.000000        Theft  2015.0      1  winter       -0.356468   \n",
       "6   0.000000   0.000000        Theft  2015.0      8  summer       -0.053745   \n",
       "\n",
       "   y_standardized  \n",
       "0       -0.022620  \n",
       "1       -1.689434  \n",
       "4        0.087118  \n",
       "5       -0.965151  \n",
       "6       -1.297664  "
      ]
     },
     "execution_count": 81,
     "metadata": {},
     "output_type": "execute_result"
    }
   ],
   "source": [
    "df = df.drop(['address', \n",
    "              'location', \n",
    "              'location_description', \n",
    "              'clearance_date', \n",
    "              'timestamp', \n",
    "              'x_coordinate', \n",
    "              'y_coordinate',\n",
    "              'unique_key', \n",
    "              'zipcode'], axis = 1)\n",
    "\n",
    "# replace null values with 0\n",
    "df['latitude'] = df['latitude'].fillna(0)\n",
    "df['longitude'] = df['longitude'].fillna(0)\n",
    "df['council_district_code'] = df['council_district_code'].fillna(0)\n",
    "df['census_tract'] = df['census_tract'].fillna(0)\n",
    "\n",
    "# convert description columns to shorter strings\n",
    "df['description'] = df['description'].str.lower().apply(description_convert)\n",
    "\n",
    "df.head() #show clearned data set"
   ]
  },
  {
   "cell_type": "markdown",
   "metadata": {},
   "source": [
    "### Baseline Model: Logistic Regression"
   ]
  },
  {
   "cell_type": "code",
   "execution_count": 14,
   "metadata": {},
   "outputs": [
    {
     "data": {
      "text/plain": [
       "Pipeline(steps=[('feats',\n",
       "                 ColumnTransformer(remainder='passthrough',\n",
       "                                   transformers=[('one_hot',\n",
       "                                                  Pipeline(steps=[('ohe',\n",
       "                                                                   OneHotEncoder(handle_unknown='ignore',\n",
       "                                                                                 sparse=False))]),\n",
       "                                                  ['description',\n",
       "                                                   'primary_type',\n",
       "                                                   'district'])])),\n",
       "                ('lr',\n",
       "                 LogisticRegression(max_iter=1000, multi_class='multinomial'))])"
      ]
     },
     "execution_count": 14,
     "metadata": {},
     "output_type": "execute_result"
    }
   ],
   "source": [
    "X_train, X_test, y_train, y_test = train_test_split(df.drop('clearance_status', axis = 1), \n",
    "                                                    df['clearance_status'], \n",
    "                                                    random_state=42)\n",
    "cats = Pipeline([('ohe', OneHotEncoder(handle_unknown='ignore', sparse=False))])\n",
    "ct = ColumnTransformer([(\"one_hot\", cats, ['description', 'primary_type', 'district'])], remainder='passthrough')\n",
    "model_bl = Pipeline([('feats', ct), ('lr', LogisticRegression(multi_class='multinomial', max_iter = 1000))])\n",
    "model_bl.fit(X_train, y_train)"
   ]
  },
  {
   "cell_type": "code",
   "execution_count": 15,
   "metadata": {},
   "outputs": [
    {
     "name": "stdout",
     "output_type": "stream",
     "text": [
      "0.8313871693866066 0.8316011606436297\n"
     ]
    }
   ],
   "source": [
    "pred_train = model_bl.predict(X_train)\n",
    "pred_test = model_bl.predict(X_test)\n",
    "accuracy_train = accuracy_score(pred_train, y_train)\n",
    "accuracy_test = accuracy_score(pred_test, y_test)\n",
    "print(accuracy_train, accuracy_test)"
   ]
  },
  {
   "cell_type": "code",
   "execution_count": 16,
   "metadata": {},
   "outputs": [
    {
     "name": "stdout",
     "output_type": "stream",
     "text": [
      "{'mean_fit_time': array([147.68330011, 144.4307807 , 139.87410727, 141.13544106]), 'std_fit_time': array([3.04364701, 1.71970044, 3.58224917, 5.72960352]), 'mean_score_time': array([0.16693411, 0.21549368, 0.18454523, 0.19961939]), 'std_score_time': array([0.04728698, 0.02802844, 0.02102122, 0.04129369]), 'param_lr__C': masked_array(data=[0.01, 0.5, 1, 10],\n",
      "             mask=[False, False, False, False],\n",
      "       fill_value='?',\n",
      "            dtype=object), 'params': [{'lr__C': 0.01}, {'lr__C': 0.5}, {'lr__C': 1}, {'lr__C': 10}], 'split0_test_score': array([0.83390486, 0.83320144, 0.83267388, 0.8327618 ]), 'split1_test_score': array([0.82968434, 0.82977227, 0.8298602 , 0.82977227]), 'split2_test_score': array([0.8317946 , 0.83197046, 0.83188253, 0.83214631]), 'split3_test_score': array([0.82748615, 0.82766201, 0.82766201, 0.82792579]), 'split4_test_score': array([0.83204362, 0.83204362, 0.83239536, 0.83283503]), 'mean_test_score': array([0.83098271, 0.83092996, 0.83089479, 0.83108824]), 'std_test_score': array([0.00220161, 0.00197496, 0.00189282, 0.00193414]), 'rank_test_score': array([2, 3, 4, 1], dtype=int32)}\n"
     ]
    }
   ],
   "source": [
    "parameters = {'lr__C':[0.01,0.5, 1, 10]}\n",
    "gs = GridSearchCV(model_bl, parameters)\n",
    "gs.fit(X_train, y_train)\n",
    "print(gs.cv_results_)"
   ]
  },
  {
   "cell_type": "code",
   "execution_count": 17,
   "metadata": {},
   "outputs": [
    {
     "name": "stdout",
     "output_type": "stream",
     "text": [
      "0.830859594822735 0.8333421260881034\n"
     ]
    }
   ],
   "source": [
    "pred_train_2 = gs.predict(X_train)\n",
    "pred_test_2 = gs.predict(X_test)\n",
    "accuracy_train_2 = accuracy_score(pred_train_2, y_train)\n",
    "accuracy_test_2 = accuracy_score(pred_test_2, y_test)\n",
    "print(accuracy_train_2, accuracy_test_2)"
   ]
  },
  {
   "cell_type": "code",
   "execution_count": 52,
   "metadata": {},
   "outputs": [
    {
     "name": "stdout",
     "output_type": "stream",
     "text": [
      "split0_test_score\n",
      "split1_test_score\n",
      "split2_test_score\n",
      "split3_test_score\n",
      "split4_test_score\n"
     ]
    },
    {
     "data": {
      "text/plain": [
       "([<matplotlib.axis.XTick at 0x7f02a1855e50>,\n",
       "  <matplotlib.axis.XTick at 0x7f02a1855e20>,\n",
       "  <matplotlib.axis.XTick at 0x7f02a1855cd0>,\n",
       "  <matplotlib.axis.XTick at 0x7f02a17a83d0>],\n",
       " [Text(0, 0, '0.01'), Text(1, 0, '0.5'), Text(2, 0, '1'), Text(3, 0, '10')])"
      ]
     },
     "execution_count": 52,
     "metadata": {},
     "output_type": "execute_result"
    },
    {
     "data": {
      "image/png": "[encoded data removed]",
      "text/plain": [
       "<Figure size 600x400 with 1 Axes>"
      ]
     },
     "metadata": {
      "needs_background": "light"
     },
     "output_type": "display_data"
    }
   ],
   "source": [
    "keys = list(gs.cv_results_.keys())[6:11]\n",
    "lsgs_result = []\n",
    "\n",
    "plt.figure(dpi=100)\n",
    "plt.title('Grid Search Losgistic Regression result')\n",
    "for k in keys:\n",
    "    print(k)\n",
    "    line = gs.cv_results_[k]\n",
    "    plt.plot(line)\n",
    "plt.legend(keys, fontsize = 'x-small', loc='upper right', bbox_to_anchor=(1.25, 1))\n",
    "plt.xticks([0,1,2,3],[0.01,0.5, 1, 10])"
   ]
  },
  {
   "cell_type": "code",
   "execution_count": 38,
   "metadata": {},
   "outputs": [
    {
     "data": {
      "text/plain": [
       "Pipeline(steps=[('feats',\n",
       "                 ColumnTransformer(remainder='passthrough',\n",
       "                                   transformers=[('one_hot',\n",
       "                                                  Pipeline(steps=[('ohe',\n",
       "                                                                   OneHotEncoder(handle_unknown='ignore',\n",
       "                                                                                 sparse=False))]),\n",
       "                                                  ['description',\n",
       "                                                   'primary_type',\n",
       "                                                   'district'])])),\n",
       "                ('dt', DecisionTreeClassifier(random_state=0))])"
      ]
     },
     "execution_count": 38,
     "metadata": {},
     "output_type": "execute_result"
    }
   ],
   "source": [
    "model_dt = Pipeline([('feats', ct), ('dt', DecisionTreeClassifier(random_state=0))])\n",
    "model_dt.fit(X_train, y_train)"
   ]
  },
  {
   "cell_type": "code",
   "execution_count": 39,
   "metadata": {},
   "outputs": [
    {
     "name": "stdout",
     "output_type": "stream",
     "text": [
      "0.9282322734946539 0.821260881034028\n"
     ]
    }
   ],
   "source": [
    "pred_train_3 = model_dt.predict(X_train)\n",
    "pred_test_3 = model_dt.predict(X_test)\n",
    "accuracy_train_3 = accuracy_score(pred_train_3, y_train)\n",
    "accuracy_test_3 = accuracy_score(pred_test_3, y_test)\n",
    "print(accuracy_train_3, accuracy_test_3)"
   ]
  },
  {
   "cell_type": "code",
   "execution_count": null,
   "metadata": {},
   "outputs": [],
   "source": []
  }
 ],
 "metadata": {
  "kernelspec": {
   "display_name": "Python 3 (ipykernel)",
   "language": "python",
   "name": "python3"
  },
  "language_info": {
   "codemirror_mode": {
    "name": "ipython",
    "version": 3
   },
   "file_extension": ".py",
   "mimetype": "text/x-python",
   "name": "python",
   "nbconvert_exporter": "python",
   "pygments_lexer": "ipython3",
   "version": "3.9.5"
  }
 },
 "nbformat": 4,
 "nbformat_minor": 4
}
