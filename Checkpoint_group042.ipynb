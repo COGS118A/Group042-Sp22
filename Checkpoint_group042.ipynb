{
 "cells": [
  {
   "cell_type": "markdown",
   "metadata": {},
   "source": [
    "# COGS 118A- Project Checkpoint"
   ]
  },
  {
   "cell_type": "markdown",
   "metadata": {},
   "source": [
    "# Names\n",
    "\n",
    "Hopefully your team is at least this good. Obviously you should replace these with your names.\n",
    "\n",
    "- Pelé\n",
    "- Diego Maradonna\n",
    "- Johan Cruyff\n",
    "- Roberto Carlos\n",
    "- Franz Beckenbaur"
   ]
  },
  {
   "cell_type": "markdown",
   "metadata": {},
   "source": [
    "# Abstract \n",
    "This section should be short and clearly stated. It should be a single paragraph <200 words.  It should summarize: \n",
    "- what your goal/problem is\n",
    "- what the data used represents and how they are measured\n",
    "- what you will be doing with the data\n",
    "- how performance/success will be measured"
   ]
  },
  {
   "cell_type": "markdown",
   "metadata": {},
   "source": [
    "# Background\n",
    "\n",
    "Fill in the background and discuss the kind of prior work that has gone on in this research area here. **Use inline citation** to specify which references support which statements.  You can do that through HTML footnotes (demonstrated here). I used to reccommend Markdown footnotes (google is your friend) because they are simpler but recently I have had some problems with them working for me whereas HTML ones always work so far. So use the method that works for you, but do use inline citations.\n",
    "\n",
    "Here is an example of inline citation. After government genocide in the 20th century, real birds were replaced with surveillance drones designed to look just like birds<a name=\"lorenz\"></a>[<sup>[1]</sup>](#lorenznote). Use a minimum of 2 or 3 citations, but we prefer more <a name=\"admonish\"></a>[<sup>[2]</sup>](#admonishnote). You need enough citations to fully explain and back up important facts. \n",
    "\n",
    "Remeber you are trying to explain why someone would want to answer your question or why your hypothesis is in the form that you've stated. "
   ]
  },
  {
   "cell_type": "markdown",
   "metadata": {},
   "source": [
    "# Problem Statement\n",
    "\n",
    "Clearly describe the problem that you are solving. Avoid ambiguous words. The problem described should be well defined and should have at least one ML-relevant potential solution. Additionally, describe the problem thoroughly such that it is clear that the problem is quantifiable (the problem can be expressed in mathematical or logical terms), measurable (the problem can be measured by some metric and clearly observed), and replicable (the problem can be reproduced and occurs more than once)."
   ]
  },
  {
   "cell_type": "markdown",
   "metadata": {},
   "source": [
    "# Data\n",
    "\n",
    "UPDATED FROM PROPOSAL!\n",
    "\n",
    "You should have obtained and cleaned (if necessary) data you will use for this project.\n",
    "\n",
    "Please give the following infomration for each dataset you are using\n",
    "- link/reference to obtain it\n",
    "- description of the size of the dataset (# of variables, # of observations)\n",
    "- what an observation consists of\n",
    "- what some critical variables are, how they are represented\n",
    "- any special handling, transformations, cleaning, etc you have done should be demonstrated here!\n"
   ]
  },
  {
   "cell_type": "markdown",
   "metadata": {},
   "source": [
    "# Proposed Solution\n",
    "\n",
    "In this section, clearly describe a solution to the problem. The solution should be applicable to the project domain and appropriate for the dataset(s) or input(s) given. Provide enough detail (e.g., algorithmic description and/or theoretical properties) to convince us that your solution is applicable. Make sure to describe how the solution will be tested.  \n",
    "\n",
    "If you know details already, describe how (e.g., library used, function calls) you plan to implement the solution in a way that is reproducible.\n",
    "\n",
    "If it is appropriate to the problem statement, describe a benchmark model<a name=\"sota\"></a>[<sup>[3]</sup>](#sotanote) against which your solution will be compared. "
   ]
  },
  {
   "cell_type": "markdown",
   "metadata": {},
   "source": [
    "# Evaluation Metrics\n",
    "\n",
    "Propose at least one evaluation metric that can be used to quantify the performance of both the benchmark model and the solution model. The evaluation metric(s) you propose should be appropriate given the context of the data, the problem statement, and the intended solution. Describe how the evaluation metric(s) are derived and provide an example of their mathematical representations (if applicable). Complex evaluation metrics should be clearly defined and quantifiable (can be expressed in mathematical or logical terms)."
   ]
  },
  {
   "cell_type": "markdown",
   "metadata": {},
   "source": [
    "# Preliminary results\n",
    "\n",
    "NEW SECTION!\n",
    "\n",
    "Please show any preliminary results you have managed to obtain.\n",
    "\n",
    "Examples would include:\n",
    "- Analyzing the suitability of a dataset or alogrithm for prediction/solving your problem \n",
    "- Performing feature selection or hand-designing features from the raw data. Describe the features available/created and/or show the code for selection/creation\n",
    "- Showing the performance of a base model/hyper-parameter setting.  Solve the task with one \"default\" algorithm and characterize the performance level of that base model.\n",
    "- Learning curves or validation curves for a particular model\n",
    "- Tables/graphs showing the performance of different models/hyper-parameters\n",
    "\n"
   ]
  },
  {
   "cell_type": "markdown",
   "metadata": {},
   "source": [
    "# Ethics & Privacy"
   ]
  },
  {
   "cell_type": "markdown",
   "metadata": {},
   "source": [
    "If your project has obvious potential concerns with ethics or data privacy discuss that here.  Almost every ML project put into production can have ethical implications if you use your imagination. Use your imagination.\n",
    "\n",
    "Even if you can't come up with an obvious ethical concern that should be addressed, you should know that a large number of ML projects that go into producation have unintended consequences and ethical problems once in production. How will your team address these issues?\n",
    "\n",
    "Consider a tool to help you address the potential issues such as https://deon.drivendata.org"
   ]
  },
  {
   "cell_type": "markdown",
   "metadata": {},
   "source": [
    "# Team Expectations "
   ]
  },
  {
   "cell_type": "markdown",
   "metadata": {},
   "source": [
    "Put things here that cement how you will interact/communicate as a team, how you will handle conflict and difficulty, how you will handle making decisions and setting goals/schedule, how much work you expect from each other, how you will handle deadlines, etc...\n",
    "* *Team Expectation 1*\n",
    "* *Team Expectation 2*\n",
    "* *Team Expecation 3*\n",
    "* ..."
   ]
  },
  {
   "cell_type": "markdown",
   "metadata": {},
   "source": [
    "# Project Timeline Proposal"
   ]
  },
  {
   "cell_type": "markdown",
   "metadata": {},
   "source": [
    "UPDATE THE PROPOSAL TIMELINE ACCORDING TO WHAT HAS ACTUALLY HAPPENED AND HOW IT HAS EFFECTED YOUR FUTURE PLANS\n",
    "\n",
    "| Meeting Date  | Meeting Time| Completed Before Meeting  | Discuss at Meeting |\n",
    "|---|---|---|---|\n",
    "| 1/20  |  1 PM |  Brainstorm topics/questions (all)  | Determine best form of communication; Discuss and decide on final project topic; discuss hypothesis; begin background research | \n",
    "| 1/26  |  10 AM |  Do background research on topic (Pelé) | Discuss ideal dataset(s) and ethics; draft project proposal | \n",
    "| 2/1  | 10 AM  | Edit, finalize, and submit proposal; Search for datasets (Beckenbaur)  | Discuss Wrangling and possible analytical approaches; Assign group members to lead each specific part   |\n",
    "| 2/14  | 6 PM  | Import & Wrangle Data ,do some EDA (Maradonna) | Review/Edit wrangling/EDA; Discuss Analysis Plan   |\n",
    "| 2/23  | 12 PM  | Finalize wrangling/EDA; Begin programming for project (Cruyff) | Discuss/edit project code; Complete project |\n",
    "| 3/13  | 12 PM  | Complete analysis; Draft results/conclusion/discussion (Carlos)| Discuss/edit full project |\n",
    "| 3/19  | Before 11:59 PM  | NA | Turn in Final Project  |"
   ]
  },
  {
   "cell_type": "markdown",
   "metadata": {},
   "source": [
    "# Footnotes\n",
    "<a name=\"lorenznote\"></a>1.[^](#lorenz): Lorenz, T. (9 Dec 2021) Birds Aren’t Real, or Are They? Inside a Gen Z Conspiracy Theory. *The New York Times*. https://www.nytimes.com/2021/12/09/technology/birds-arent-real-gen-z-misinformation.html<br> \n",
    "<a name=\"admonishnote\"></a>2.[^](#admonish): Also refs should be important to the background, not some randomly chosen vaguely related stuff. Include a web link if possible in refs as above.<br>\n",
    "<a name=\"sotanote\"></a>3.[^](#sota): Perhaps the current state of the art solution such as you see on [Papers with code](https://paperswithcode.com/sota). Or maybe not SOTA, but rather a standard textbook/Kaggle solution to this kind of problem\n"
   ]
  },
  {
   "cell_type": "markdown",
   "metadata": {},
   "source": [
    "### EDA(YLN & TONY)"
   ]
  },
  {
   "cell_type": "code",
   "execution_count": 70,
   "metadata": {},
   "outputs": [],
   "source": [
    "import pandas as pd\n",
    "import numpy as np\n",
    "import matplotlib.pyplot as plt\n",
    "import seaborn as sns\n",
    "pd.set_option(\"display.max_columns\", None)"
   ]
  },
  {
   "cell_type": "code",
   "execution_count": 13,
   "metadata": {
    "scrolled": true
   },
   "outputs": [
    {
     "data": {
      "text/html": [
       "<div>\n",
       "<style scoped>\n",
       "    .dataframe tbody tr th:only-of-type {\n",
       "        vertical-align: middle;\n",
       "    }\n",
       "\n",
       "    .dataframe tbody tr th {\n",
       "        vertical-align: top;\n",
       "    }\n",
       "\n",
       "    .dataframe thead th {\n",
       "        text-align: right;\n",
       "    }\n",
       "</style>\n",
       "<table border=\"1\" class=\"dataframe\">\n",
       "  <thead>\n",
       "    <tr style=\"text-align: right;\">\n",
       "      <th></th>\n",
       "      <th>address</th>\n",
       "      <th>census_tract</th>\n",
       "      <th>clearance_date</th>\n",
       "      <th>clearance_status</th>\n",
       "      <th>council_district_code</th>\n",
       "      <th>description</th>\n",
       "      <th>district</th>\n",
       "      <th>latitude</th>\n",
       "      <th>location</th>\n",
       "      <th>location_description</th>\n",
       "      <th>longitude</th>\n",
       "      <th>primary_type</th>\n",
       "      <th>timestamp</th>\n",
       "      <th>unique_key</th>\n",
       "      <th>x_coordinate</th>\n",
       "      <th>y_coordinate</th>\n",
       "      <th>year</th>\n",
       "      <th>zipcode</th>\n",
       "    </tr>\n",
       "  </thead>\n",
       "  <tbody>\n",
       "    <tr>\n",
       "      <th>0</th>\n",
       "      <td>2620 RIO GRANDE ST Austin TX 78705</td>\n",
       "      <td>6.03</td>\n",
       "      <td>2015-12-14 00:00:00</td>\n",
       "      <td>Not cleared</td>\n",
       "      <td>9.0</td>\n",
       "      <td>THEFT</td>\n",
       "      <td>B</td>\n",
       "      <td>NaN</td>\n",
       "      <td>NaN</td>\n",
       "      <td>2620 RIO GRANDE ST</td>\n",
       "      <td>NaN</td>\n",
       "      <td>Theft</td>\n",
       "      <td>2015-12-13 00:00:00</td>\n",
       "      <td>2.015505e+10</td>\n",
       "      <td>3113531.0</td>\n",
       "      <td>10079579.0</td>\n",
       "      <td>2015.0</td>\n",
       "      <td>78705.0</td>\n",
       "    </tr>\n",
       "    <tr>\n",
       "      <th>1</th>\n",
       "      <td>9500 S IH 35 SVRD SB Austin TX 78748</td>\n",
       "      <td>24.21</td>\n",
       "      <td>2015-09-14 00:00:00</td>\n",
       "      <td>Cleared by Arrest</td>\n",
       "      <td>5.0</td>\n",
       "      <td>THEFT BY SHOPLIFTING</td>\n",
       "      <td>F</td>\n",
       "      <td>NaN</td>\n",
       "      <td>NaN</td>\n",
       "      <td>9500 S IH 35 SVRD SB</td>\n",
       "      <td>NaN</td>\n",
       "      <td>Theft</td>\n",
       "      <td>2015-09-03 00:00:00</td>\n",
       "      <td>2.015246e+10</td>\n",
       "      <td>3099459.0</td>\n",
       "      <td>10032098.0</td>\n",
       "      <td>2015.0</td>\n",
       "      <td>78748.0</td>\n",
       "    </tr>\n",
       "    <tr>\n",
       "      <th>2</th>\n",
       "      <td>1000 E 41ST ST</td>\n",
       "      <td>NaN</td>\n",
       "      <td>NaN</td>\n",
       "      <td>NaN</td>\n",
       "      <td>NaN</td>\n",
       "      <td>NaN</td>\n",
       "      <td>NaN</td>\n",
       "      <td>NaN</td>\n",
       "      <td>NaN</td>\n",
       "      <td>NaN</td>\n",
       "      <td>NaN</td>\n",
       "      <td>NaN</td>\n",
       "      <td>NaN</td>\n",
       "      <td>NaN</td>\n",
       "      <td>NaN</td>\n",
       "      <td>NaN</td>\n",
       "      <td>NaN</td>\n",
       "      <td>NaN</td>\n",
       "    </tr>\n",
       "    <tr>\n",
       "      <th>3</th>\n",
       "      <td>Austin TX 78751</td>\n",
       "      <td>NaN</td>\n",
       "      <td>NaN</td>\n",
       "      <td>NaN</td>\n",
       "      <td>NaN</td>\n",
       "      <td>NaN</td>\n",
       "      <td>NaN</td>\n",
       "      <td>NaN</td>\n",
       "      <td>NaN</td>\n",
       "      <td>NaN</td>\n",
       "      <td>NaN</td>\n",
       "      <td>NaN</td>\n",
       "      <td>NaN</td>\n",
       "      <td>NaN</td>\n",
       "      <td>NaN</td>\n",
       "      <td>NaN</td>\n",
       "      <td>NaN</td>\n",
       "      <td>NaN</td>\n",
       "    </tr>\n",
       "    <tr>\n",
       "      <th>4</th>\n",
       "      <td>(30.298356 -97.719647)</td>\n",
       "      <td>3.02</td>\n",
       "      <td>2014-07-29 00:00:00</td>\n",
       "      <td>Cleared by Arrest</td>\n",
       "      <td>9.0</td>\n",
       "      <td>THEFT BY SHOPLIFTING</td>\n",
       "      <td>B</td>\n",
       "      <td>30.298356</td>\n",
       "      <td>(30.298356-97.719647)</td>\n",
       "      <td>1000 E 41ST ST</td>\n",
       "      <td>-97.719647</td>\n",
       "      <td>Theft: Shoplifting</td>\n",
       "      <td>2014-04-04 00:00:00</td>\n",
       "      <td>2.014941e+09</td>\n",
       "      <td>3121345.0</td>\n",
       "      <td>10082705.0</td>\n",
       "      <td>2014.0</td>\n",
       "      <td>78751.0</td>\n",
       "    </tr>\n",
       "  </tbody>\n",
       "</table>\n",
       "</div>"
      ],
      "text/plain": [
       "                                address census_tract       clearance_date  \\\n",
       "0    2620 RIO GRANDE ST Austin TX 78705         6.03  2015-12-14 00:00:00   \n",
       "1  9500 S IH 35 SVRD SB Austin TX 78748        24.21  2015-09-14 00:00:00   \n",
       "2                        1000 E 41ST ST          NaN                  NaN   \n",
       "3                       Austin TX 78751          NaN                  NaN   \n",
       "4                (30.298356 -97.719647)         3.02  2014-07-29 00:00:00   \n",
       "\n",
       "    clearance_status  council_district_code           description district  \\\n",
       "0        Not cleared                    9.0                 THEFT        B   \n",
       "1  Cleared by Arrest                    5.0  THEFT BY SHOPLIFTING        F   \n",
       "2                NaN                    NaN                   NaN      NaN   \n",
       "3                NaN                    NaN                   NaN      NaN   \n",
       "4  Cleared by Arrest                    9.0  THEFT BY SHOPLIFTING        B   \n",
       "\n",
       "    latitude               location  location_description  longitude  \\\n",
       "0        NaN                    NaN    2620 RIO GRANDE ST        NaN   \n",
       "1        NaN                    NaN  9500 S IH 35 SVRD SB        NaN   \n",
       "2        NaN                    NaN                   NaN        NaN   \n",
       "3        NaN                    NaN                   NaN        NaN   \n",
       "4  30.298356  (30.298356-97.719647)        1000 E 41ST ST -97.719647   \n",
       "\n",
       "         primary_type            timestamp    unique_key  x_coordinate  \\\n",
       "0               Theft  2015-12-13 00:00:00  2.015505e+10     3113531.0   \n",
       "1               Theft  2015-09-03 00:00:00  2.015246e+10     3099459.0   \n",
       "2                 NaN                  NaN           NaN           NaN   \n",
       "3                 NaN                  NaN           NaN           NaN   \n",
       "4  Theft: Shoplifting  2014-04-04 00:00:00  2.014941e+09     3121345.0   \n",
       "\n",
       "   y_coordinate    year  zipcode  \n",
       "0    10079579.0  2015.0  78705.0  \n",
       "1    10032098.0  2015.0  78748.0  \n",
       "2           NaN     NaN      NaN  \n",
       "3           NaN     NaN      NaN  \n",
       "4    10082705.0  2014.0  78751.0  "
      ]
     },
     "execution_count": 13,
     "metadata": {},
     "output_type": "execute_result"
    }
   ],
   "source": [
    "df = pd.read_csv('austin_crime.csv')\n",
    "df.head()"
   ]
  },
  {
   "cell_type": "markdown",
   "metadata": {},
   "source": [
    "#### Descriptive Statistics"
   ]
  },
  {
   "cell_type": "code",
   "execution_count": 9,
   "metadata": {},
   "outputs": [
    {
     "data": {
      "text/html": [
       "<div>\n",
       "<style scoped>\n",
       "    .dataframe tbody tr th:only-of-type {\n",
       "        vertical-align: middle;\n",
       "    }\n",
       "\n",
       "    .dataframe tbody tr th {\n",
       "        vertical-align: top;\n",
       "    }\n",
       "\n",
       "    .dataframe thead th {\n",
       "        text-align: right;\n",
       "    }\n",
       "</style>\n",
       "<table border=\"1\" class=\"dataframe\">\n",
       "  <thead>\n",
       "    <tr style=\"text-align: right;\">\n",
       "      <th></th>\n",
       "      <th>address</th>\n",
       "      <th>census_tract</th>\n",
       "      <th>clearance_date</th>\n",
       "      <th>clearance_status</th>\n",
       "      <th>council_district_code</th>\n",
       "      <th>description</th>\n",
       "      <th>district</th>\n",
       "      <th>latitude</th>\n",
       "      <th>location</th>\n",
       "      <th>location_description</th>\n",
       "      <th>longitude</th>\n",
       "      <th>primary_type</th>\n",
       "      <th>timestamp</th>\n",
       "      <th>unique_key</th>\n",
       "      <th>x_coordinate</th>\n",
       "      <th>y_coordinate</th>\n",
       "      <th>year</th>\n",
       "      <th>zipcode</th>\n",
       "      <th>x_standardized</th>\n",
       "      <th>y_standardized</th>\n",
       "    </tr>\n",
       "  </thead>\n",
       "  <tbody>\n",
       "    <tr>\n",
       "      <th>count</th>\n",
       "      <td>75819</td>\n",
       "      <td>75553</td>\n",
       "      <td>75819</td>\n",
       "      <td>75819</td>\n",
       "      <td>75491.000000</td>\n",
       "      <td>75819</td>\n",
       "      <td>75819</td>\n",
       "      <td>33328.000000</td>\n",
       "      <td>33328</td>\n",
       "      <td>74813</td>\n",
       "      <td>33328.000000</td>\n",
       "      <td>75819</td>\n",
       "      <td>70273</td>\n",
       "      <td>7.027300e+04</td>\n",
       "      <td>6.912100e+04</td>\n",
       "      <td>6.912100e+04</td>\n",
       "      <td>70273.000000</td>\n",
       "      <td>70019.000000</td>\n",
       "      <td>7.581900e+04</td>\n",
       "      <td>7.581900e+04</td>\n",
       "    </tr>\n",
       "    <tr>\n",
       "      <th>unique</th>\n",
       "      <td>30959</td>\n",
       "      <td>208</td>\n",
       "      <td>799</td>\n",
       "      <td>3</td>\n",
       "      <td>NaN</td>\n",
       "      <td>45</td>\n",
       "      <td>11</td>\n",
       "      <td>NaN</td>\n",
       "      <td>14551</td>\n",
       "      <td>28186</td>\n",
       "      <td>NaN</td>\n",
       "      <td>6</td>\n",
       "      <td>730</td>\n",
       "      <td>NaN</td>\n",
       "      <td>NaN</td>\n",
       "      <td>NaN</td>\n",
       "      <td>NaN</td>\n",
       "      <td>NaN</td>\n",
       "      <td>NaN</td>\n",
       "      <td>NaN</td>\n",
       "    </tr>\n",
       "    <tr>\n",
       "      <th>top</th>\n",
       "      <td>Austin TX 78753</td>\n",
       "      <td>11</td>\n",
       "      <td>2015-12-08 00:00:00</td>\n",
       "      <td>Not cleared</td>\n",
       "      <td>NaN</td>\n",
       "      <td>THEFT</td>\n",
       "      <td>D</td>\n",
       "      <td>NaN</td>\n",
       "      <td>(30.338618-97.692566)</td>\n",
       "      <td>1030 NORWOOD PARK BLVD</td>\n",
       "      <td>NaN</td>\n",
       "      <td>Theft</td>\n",
       "      <td>2015-08-03 00:00:00</td>\n",
       "      <td>NaN</td>\n",
       "      <td>NaN</td>\n",
       "      <td>NaN</td>\n",
       "      <td>NaN</td>\n",
       "      <td>NaN</td>\n",
       "      <td>NaN</td>\n",
       "      <td>NaN</td>\n",
       "    </tr>\n",
       "    <tr>\n",
       "      <th>freq</th>\n",
       "      <td>1247</td>\n",
       "      <td>3635</td>\n",
       "      <td>289</td>\n",
       "      <td>62471</td>\n",
       "      <td>NaN</td>\n",
       "      <td>20497</td>\n",
       "      <td>10679</td>\n",
       "      <td>NaN</td>\n",
       "      <td>664</td>\n",
       "      <td>1186</td>\n",
       "      <td>NaN</td>\n",
       "      <td>59032</td>\n",
       "      <td>152</td>\n",
       "      <td>NaN</td>\n",
       "      <td>NaN</td>\n",
       "      <td>NaN</td>\n",
       "      <td>NaN</td>\n",
       "      <td>NaN</td>\n",
       "      <td>NaN</td>\n",
       "      <td>NaN</td>\n",
       "    </tr>\n",
       "    <tr>\n",
       "      <th>mean</th>\n",
       "      <td>NaN</td>\n",
       "      <td>NaN</td>\n",
       "      <td>NaN</td>\n",
       "      <td>NaN</td>\n",
       "      <td>5.139964</td>\n",
       "      <td>NaN</td>\n",
       "      <td>NaN</td>\n",
       "      <td>30.292600</td>\n",
       "      <td>NaN</td>\n",
       "      <td>NaN</td>\n",
       "      <td>-97.736961</td>\n",
       "      <td>NaN</td>\n",
       "      <td>NaN</td>\n",
       "      <td>1.803276e+10</td>\n",
       "      <td>3.115803e+06</td>\n",
       "      <td>1.008022e+07</td>\n",
       "      <td>2014.521523</td>\n",
       "      <td>78732.831646</td>\n",
       "      <td>-6.085187e-15</td>\n",
       "      <td>2.272946e-14</td>\n",
       "    </tr>\n",
       "    <tr>\n",
       "      <th>std</th>\n",
       "      <td>NaN</td>\n",
       "      <td>NaN</td>\n",
       "      <td>NaN</td>\n",
       "      <td>NaN</td>\n",
       "      <td>2.797064</td>\n",
       "      <td>NaN</td>\n",
       "      <td>NaN</td>\n",
       "      <td>0.075934</td>\n",
       "      <td>NaN</td>\n",
       "      <td>NaN</td>\n",
       "      <td>0.046514</td>\n",
       "      <td>NaN</td>\n",
       "      <td>NaN</td>\n",
       "      <td>1.620783e+10</td>\n",
       "      <td>1.482555e+04</td>\n",
       "      <td>2.848628e+04</td>\n",
       "      <td>0.499540</td>\n",
       "      <td>26.003072</td>\n",
       "      <td>9.548141e-01</td>\n",
       "      <td>9.548141e-01</td>\n",
       "    </tr>\n",
       "    <tr>\n",
       "      <th>min</th>\n",
       "      <td>NaN</td>\n",
       "      <td>NaN</td>\n",
       "      <td>NaN</td>\n",
       "      <td>NaN</td>\n",
       "      <td>1.000000</td>\n",
       "      <td>NaN</td>\n",
       "      <td>NaN</td>\n",
       "      <td>30.088110</td>\n",
       "      <td>NaN</td>\n",
       "      <td>NaN</td>\n",
       "      <td>-97.958825</td>\n",
       "      <td>NaN</td>\n",
       "      <td>NaN</td>\n",
       "      <td>2.014200e+04</td>\n",
       "      <td>3.040396e+06</td>\n",
       "      <td>1.001032e+07</td>\n",
       "      <td>2014.000000</td>\n",
       "      <td>78610.000000</td>\n",
       "      <td>-5.086311e+00</td>\n",
       "      <td>-2.454089e+00</td>\n",
       "    </tr>\n",
       "    <tr>\n",
       "      <th>25%</th>\n",
       "      <td>NaN</td>\n",
       "      <td>NaN</td>\n",
       "      <td>NaN</td>\n",
       "      <td>NaN</td>\n",
       "      <td>3.000000</td>\n",
       "      <td>NaN</td>\n",
       "      <td>NaN</td>\n",
       "      <td>30.232405</td>\n",
       "      <td>NaN</td>\n",
       "      <td>NaN</td>\n",
       "      <td>-97.760794</td>\n",
       "      <td>NaN</td>\n",
       "      <td>NaN</td>\n",
       "      <td>2.014323e+10</td>\n",
       "      <td>3.107778e+06</td>\n",
       "      <td>1.005787e+07</td>\n",
       "      <td>2014.000000</td>\n",
       "      <td>78719.000000</td>\n",
       "      <td>-4.402429e-01</td>\n",
       "      <td>-7.427966e-01</td>\n",
       "    </tr>\n",
       "    <tr>\n",
       "      <th>50%</th>\n",
       "      <td>NaN</td>\n",
       "      <td>NaN</td>\n",
       "      <td>NaN</td>\n",
       "      <td>NaN</td>\n",
       "      <td>5.000000</td>\n",
       "      <td>NaN</td>\n",
       "      <td>NaN</td>\n",
       "      <td>30.278642</td>\n",
       "      <td>NaN</td>\n",
       "      <td>NaN</td>\n",
       "      <td>-97.733427</td>\n",
       "      <td>NaN</td>\n",
       "      <td>NaN</td>\n",
       "      <td>2.014505e+10</td>\n",
       "      <td>3.116529e+06</td>\n",
       "      <td>1.007616e+07</td>\n",
       "      <td>2015.000000</td>\n",
       "      <td>78744.000000</td>\n",
       "      <td>0.000000e+00</td>\n",
       "      <td>0.000000e+00</td>\n",
       "    </tr>\n",
       "    <tr>\n",
       "      <th>75%</th>\n",
       "      <td>NaN</td>\n",
       "      <td>NaN</td>\n",
       "      <td>NaN</td>\n",
       "      <td>NaN</td>\n",
       "      <td>8.000000</td>\n",
       "      <td>NaN</td>\n",
       "      <td>NaN</td>\n",
       "      <td>30.353838</td>\n",
       "      <td>NaN</td>\n",
       "      <td>NaN</td>\n",
       "      <td>-97.704769</td>\n",
       "      <td>NaN</td>\n",
       "      <td>NaN</td>\n",
       "      <td>2.015500e+10</td>\n",
       "      <td>3.126047e+06</td>\n",
       "      <td>1.010257e+07</td>\n",
       "      <td>2015.000000</td>\n",
       "      <td>78752.000000</td>\n",
       "      <td>6.316984e-01</td>\n",
       "      <td>6.850413e-01</td>\n",
       "    </tr>\n",
       "    <tr>\n",
       "      <th>max</th>\n",
       "      <td>NaN</td>\n",
       "      <td>NaN</td>\n",
       "      <td>NaN</td>\n",
       "      <td>NaN</td>\n",
       "      <td>10.000000</td>\n",
       "      <td>NaN</td>\n",
       "      <td>NaN</td>\n",
       "      <td>30.512564</td>\n",
       "      <td>NaN</td>\n",
       "      <td>NaN</td>\n",
       "      <td>-97.580845</td>\n",
       "      <td>NaN</td>\n",
       "      <td>NaN</td>\n",
       "      <td>2.014142e+12</td>\n",
       "      <td>3.165466e+06</td>\n",
       "      <td>1.015961e+07</td>\n",
       "      <td>2015.000000</td>\n",
       "      <td>78759.000000</td>\n",
       "      <td>3.349864e+00</td>\n",
       "      <td>2.786928e+00</td>\n",
       "    </tr>\n",
       "  </tbody>\n",
       "</table>\n",
       "</div>"
      ],
      "text/plain": [
       "                address census_tract       clearance_date clearance_status  \\\n",
       "count             75819        75553                75819            75819   \n",
       "unique            30959          208                  799                3   \n",
       "top     Austin TX 78753           11  2015-12-08 00:00:00      Not cleared   \n",
       "freq               1247         3635                  289            62471   \n",
       "mean                NaN          NaN                  NaN              NaN   \n",
       "std                 NaN          NaN                  NaN              NaN   \n",
       "min                 NaN          NaN                  NaN              NaN   \n",
       "25%                 NaN          NaN                  NaN              NaN   \n",
       "50%                 NaN          NaN                  NaN              NaN   \n",
       "75%                 NaN          NaN                  NaN              NaN   \n",
       "max                 NaN          NaN                  NaN              NaN   \n",
       "\n",
       "        council_district_code description district      latitude  \\\n",
       "count            75491.000000       75819    75819  33328.000000   \n",
       "unique                    NaN          45       11           NaN   \n",
       "top                       NaN       THEFT        D           NaN   \n",
       "freq                      NaN       20497    10679           NaN   \n",
       "mean                 5.139964         NaN      NaN     30.292600   \n",
       "std                  2.797064         NaN      NaN      0.075934   \n",
       "min                  1.000000         NaN      NaN     30.088110   \n",
       "25%                  3.000000         NaN      NaN     30.232405   \n",
       "50%                  5.000000         NaN      NaN     30.278642   \n",
       "75%                  8.000000         NaN      NaN     30.353838   \n",
       "max                 10.000000         NaN      NaN     30.512564   \n",
       "\n",
       "                     location    location_description     longitude  \\\n",
       "count                   33328                   74813  33328.000000   \n",
       "unique                  14551                   28186           NaN   \n",
       "top     (30.338618-97.692566)  1030 NORWOOD PARK BLVD           NaN   \n",
       "freq                      664                    1186           NaN   \n",
       "mean                      NaN                     NaN    -97.736961   \n",
       "std                       NaN                     NaN      0.046514   \n",
       "min                       NaN                     NaN    -97.958825   \n",
       "25%                       NaN                     NaN    -97.760794   \n",
       "50%                       NaN                     NaN    -97.733427   \n",
       "75%                       NaN                     NaN    -97.704769   \n",
       "max                       NaN                     NaN    -97.580845   \n",
       "\n",
       "       primary_type            timestamp    unique_key  x_coordinate  \\\n",
       "count         75819                70273  7.027300e+04  6.912100e+04   \n",
       "unique            6                  730           NaN           NaN   \n",
       "top           Theft  2015-08-03 00:00:00           NaN           NaN   \n",
       "freq          59032                  152           NaN           NaN   \n",
       "mean            NaN                  NaN  1.803276e+10  3.115803e+06   \n",
       "std             NaN                  NaN  1.620783e+10  1.482555e+04   \n",
       "min             NaN                  NaN  2.014200e+04  3.040396e+06   \n",
       "25%             NaN                  NaN  2.014323e+10  3.107778e+06   \n",
       "50%             NaN                  NaN  2.014505e+10  3.116529e+06   \n",
       "75%             NaN                  NaN  2.015500e+10  3.126047e+06   \n",
       "max             NaN                  NaN  2.014142e+12  3.165466e+06   \n",
       "\n",
       "        y_coordinate          year       zipcode  x_standardized  \\\n",
       "count   6.912100e+04  70273.000000  70019.000000    7.581900e+04   \n",
       "unique           NaN           NaN           NaN             NaN   \n",
       "top              NaN           NaN           NaN             NaN   \n",
       "freq             NaN           NaN           NaN             NaN   \n",
       "mean    1.008022e+07   2014.521523  78732.831646   -6.085187e-15   \n",
       "std     2.848628e+04      0.499540     26.003072    9.548141e-01   \n",
       "min     1.001032e+07   2014.000000  78610.000000   -5.086311e+00   \n",
       "25%     1.005787e+07   2014.000000  78719.000000   -4.402429e-01   \n",
       "50%     1.007616e+07   2015.000000  78744.000000    0.000000e+00   \n",
       "75%     1.010257e+07   2015.000000  78752.000000    6.316984e-01   \n",
       "max     1.015961e+07   2015.000000  78759.000000    3.349864e+00   \n",
       "\n",
       "        y_standardized  \n",
       "count     7.581900e+04  \n",
       "unique             NaN  \n",
       "top                NaN  \n",
       "freq               NaN  \n",
       "mean      2.272946e-14  \n",
       "std       9.548141e-01  \n",
       "min      -2.454089e+00  \n",
       "25%      -7.427966e-01  \n",
       "50%       0.000000e+00  \n",
       "75%       6.850413e-01  \n",
       "max       2.786928e+00  "
      ]
     },
     "execution_count": 9,
     "metadata": {},
     "output_type": "execute_result"
    }
   ],
   "source": [
    "df.describe(include='all')"
   ]
  },
  {
   "cell_type": "markdown",
   "metadata": {},
   "source": [
    "#### Missing value imputation"
   ]
  },
  {
   "cell_type": "code",
   "execution_count": 10,
   "metadata": {},
   "outputs": [
    {
     "data": {
      "text/plain": [
       "address                      0\n",
       "census_tract               266\n",
       "clearance_date               0\n",
       "clearance_status             0\n",
       "council_district_code      328\n",
       "description                  0\n",
       "district                     0\n",
       "latitude                 42491\n",
       "location                 42491\n",
       "location_description      1006\n",
       "longitude                42491\n",
       "primary_type                 0\n",
       "timestamp                 5546\n",
       "unique_key                5546\n",
       "x_coordinate              6698\n",
       "y_coordinate              6698\n",
       "year                      5546\n",
       "zipcode                   5800\n",
       "x_standardized               0\n",
       "y_standardized               0\n",
       "dtype: int64"
      ]
     },
     "execution_count": 10,
     "metadata": {},
     "output_type": "execute_result"
    }
   ],
   "source": [
    "df.isnull().sum()"
   ]
  },
  {
   "cell_type": "markdown",
   "metadata": {},
   "source": [
    "There are no need to imputate clearance_status, so it's a good thing!"
   ]
  },
  {
   "cell_type": "markdown",
   "metadata": {},
   "source": [
    "#### Graphical representation"
   ]
  },
  {
   "cell_type": "code",
   "execution_count": 3,
   "metadata": {
    "scrolled": true
   },
   "outputs": [
    {
     "data": {
      "text/plain": [
       "Not cleared             62471\n",
       "Cleared by Arrest       11275\n",
       "Cleared by Exception     2073\n",
       "Name: clearance_status, dtype: int64"
      ]
     },
     "execution_count": 3,
     "metadata": {},
     "output_type": "execute_result"
    }
   ],
   "source": [
    "df = df.dropna(subset=['clearance_status'])\n",
    "df = df[df['clearance_status'].apply(lambda x: x in ['Not cleared', 'Cleared by Arrest','Cleared by Exception'])]\n",
    "df['clearance_status'].value_counts()"
   ]
  },
  {
   "cell_type": "markdown",
   "metadata": {},
   "source": [
    "# Are there any clear crime type, seasonal, hourly trends in clearance status?\n",
    "搞不出hourly trend 数据不支持，很多都是00:00:00.。。可能得小改一下问题为： **Are there any clear crime type, seasonal trends in clearance status?**"
   ]
  },
  {
   "cell_type": "code",
   "execution_count": 59,
   "metadata": {},
   "outputs": [
    {
     "data": {
      "text/plain": [
       "Timestamp('2015-12-14 00:00:00')"
      ]
     },
     "execution_count": 59,
     "metadata": {},
     "output_type": "execute_result"
    }
   ],
   "source": [
    "pd.to_datetime('2015-12-14 00:00:00')"
   ]
  },
  {
   "cell_type": "code",
   "execution_count": 42,
   "metadata": {},
   "outputs": [
    {
     "data": {
      "text/plain": [
       "True"
      ]
     },
     "execution_count": 42,
     "metadata": {},
     "output_type": "execute_result"
    }
   ],
   "source": [
    "'NaN' == 'NaN'"
   ]
  },
  {
   "cell_type": "code",
   "execution_count": 45,
   "metadata": {},
   "outputs": [],
   "source": [
    "def convert_datetime(x):\n",
    "    try: \n",
    "        return pd.to_datetime(x)\n",
    "    except:\n",
    "        return np.nan"
   ]
  },
  {
   "cell_type": "code",
   "execution_count": 65,
   "metadata": {},
   "outputs": [
    {
     "data": {
      "text/plain": [
       "array(['Not cleared', 'Cleared by Arrest', nan, ..., '3127216', '3121088',\n",
       "       '3130645'], dtype=object)"
      ]
     },
     "execution_count": 65,
     "metadata": {},
     "output_type": "execute_result"
    }
   ],
   "source": [
    "df['clearance_status'].unique()\n"
   ]
  },
  {
   "cell_type": "code",
   "execution_count": 48,
   "metadata": {},
   "outputs": [],
   "source": [
    "# add in a new feature month.\n",
    "df['month'] = df['clearance_date'].apply(convert_datetime).dt.month"
   ]
  },
  {
   "cell_type": "code",
   "execution_count": 52,
   "metadata": {},
   "outputs": [],
   "source": [
    "# new seasaonal feature -- category based on month -> season(fall, spring, summer, winter)\n",
    "df['season'] = df['month'].apply(lambda x: 'winter' if x in [12, 1, 2] else 'spring' if x in [3, 4, 5] else 'summer' if x in [6, 7, 8] else 'fall' if x in [9, 10, 11] else np.NaN)"
   ]
  },
  {
   "cell_type": "code",
   "execution_count": 53,
   "metadata": {},
   "outputs": [
    {
     "data": {
      "text/plain": [
       "0         winter\n",
       "1           fall\n",
       "2            NaN\n",
       "3            NaN\n",
       "4         summer\n",
       "           ...  \n",
       "159459    summer\n",
       "159460    winter\n",
       "159461       NaN\n",
       "159462       NaN\n",
       "159463    summer\n",
       "Name: season, Length: 159464, dtype: object"
      ]
     },
     "execution_count": 53,
     "metadata": {},
     "output_type": "execute_result"
    }
   ],
   "source": [
    "df['season']"
   ]
  },
  {
   "cell_type": "code",
   "execution_count": 68,
   "metadata": {},
   "outputs": [
    {
     "data": {
      "text/html": [
       "<div>\n",
       "<style scoped>\n",
       "    .dataframe tbody tr th:only-of-type {\n",
       "        vertical-align: middle;\n",
       "    }\n",
       "\n",
       "    .dataframe tbody tr th {\n",
       "        vertical-align: top;\n",
       "    }\n",
       "\n",
       "    .dataframe thead tr th {\n",
       "        text-align: left;\n",
       "    }\n",
       "\n",
       "    .dataframe thead tr:last-of-type th {\n",
       "        text-align: right;\n",
       "    }\n",
       "</style>\n",
       "<table border=\"1\" class=\"dataframe\">\n",
       "  <thead>\n",
       "    <tr>\n",
       "      <th></th>\n",
       "      <th colspan=\"3\" halign=\"left\">count</th>\n",
       "    </tr>\n",
       "    <tr>\n",
       "      <th>clearance_status</th>\n",
       "      <th>Cleared by Arrest</th>\n",
       "      <th>Cleared by Exception</th>\n",
       "      <th>Not cleared</th>\n",
       "    </tr>\n",
       "    <tr>\n",
       "      <th>season</th>\n",
       "      <th></th>\n",
       "      <th></th>\n",
       "      <th></th>\n",
       "    </tr>\n",
       "  </thead>\n",
       "  <tbody>\n",
       "    <tr>\n",
       "      <th>fall</th>\n",
       "      <td>2629</td>\n",
       "      <td>488</td>\n",
       "      <td>15234</td>\n",
       "    </tr>\n",
       "    <tr>\n",
       "      <th>spring</th>\n",
       "      <td>2768</td>\n",
       "      <td>509</td>\n",
       "      <td>15454</td>\n",
       "    </tr>\n",
       "    <tr>\n",
       "      <th>summer</th>\n",
       "      <td>3063</td>\n",
       "      <td>580</td>\n",
       "      <td>15958</td>\n",
       "    </tr>\n",
       "    <tr>\n",
       "      <th>winter</th>\n",
       "      <td>2815</td>\n",
       "      <td>496</td>\n",
       "      <td>15825</td>\n",
       "    </tr>\n",
       "  </tbody>\n",
       "</table>\n",
       "</div>"
      ],
      "text/plain": [
       "                             count                                 \n",
       "clearance_status Cleared by Arrest Cleared by Exception Not cleared\n",
       "season                                                             \n",
       "fall                          2629                  488       15234\n",
       "spring                        2768                  509       15454\n",
       "summer                        3063                  580       15958\n",
       "winter                        2815                  496       15825"
      ]
     },
     "execution_count": 68,
     "metadata": {},
     "output_type": "execute_result"
    }
   ],
   "source": [
    "df.groupby(['clearance_status', 'season']).size().to_frame().reset_index().rename(columns={0:'count'}).pivot(index = 'season', columns = 'clearance_status')"
   ]
  },
  {
   "cell_type": "code",
   "execution_count": 69,
   "metadata": {},
   "outputs": [
    {
     "data": {
      "text/plain": [
       "<AxesSubplot:xlabel='None-clearance_status', ylabel='None-clearance_status'>"
      ]
     },
     "execution_count": 69,
     "metadata": {},
     "output_type": "execute_result"
    },
    {
     "data": {
      "image/png": "[encoded data removed]",
      "text/plain": [
       "<Figure size 432x288 with 2 Axes>"
      ]
     },
     "metadata": {
      "needs_background": "light"
     },
     "output_type": "display_data"
    }
   ],
   "source": [
    "sns.heatmap(df.groupby(['clearance_status', 'season']).size().to_frame().reset_index().rename(columns={0:'count'}).pivot(index = 'season', columns = 'clearance_status').corr())"
   ]
  },
  {
   "cell_type": "code",
   "execution_count": 4,
   "metadata": {},
   "outputs": [
    {
     "data": {
      "image/png": "[encoded data removed]",
      "text/plain": [
       "<Figure size 432x288 with 1 Axes>"
      ]
     },
     "metadata": {
      "needs_background": "light"
     },
     "output_type": "display_data"
    }
   ],
   "source": [
    "status_counts = df['clearance_status'].value_counts()\n",
    "y_pos = np.arange(len(status_counts))\n",
    "objects = status_counts.index\n",
    "performance = status_counts.values\n",
    "\n",
    "plt.barh(y_pos, performance, align='center', alpha=0.5)\n",
    "plt.yticks(y_pos, objects)\n",
    "plt.xlabel('Counts')\n",
    "plt.title('Different Crime Types Counts')\n",
    "plt.show()"
   ]
  },
  {
   "cell_type": "code",
   "execution_count": 5,
   "metadata": {},
   "outputs": [
    {
     "data": {
      "text/plain": [
       "Theft                                           26673\n",
       "Theft: All Other Larceny                        12961\n",
       "Theft: BOV                                      10300\n",
       "Burglary /                                       5546\n",
       "Burglary                                         4852\n",
       "Auto Theft                                       4164\n",
       "Theft: Shoplifting                               3901\n",
       "Agg Assault                                      1839\n",
       "Aggravated Assault                               1832\n",
       "Robbery                                          1669\n",
       "Rape                                             1006\n",
       "Theft: Pocket Picking                             431\n",
       "Theft: Auto Parts                                 228\n",
       "Theft: from Building                              217\n",
       "Theft: Coin Op Machine                            150\n",
       "Homicide: Murder & Nonnegligent Manslaughter       25\n",
       "Murder                                             18\n",
       "Theft: Purse Snatching                              7\n",
       "Name: primary_type, dtype: int64"
      ]
     },
     "execution_count": 5,
     "metadata": {},
     "output_type": "execute_result"
    }
   ],
   "source": [
    "df['primary_type'].value_counts()"
   ]
  },
  {
   "cell_type": "code",
   "execution_count": 6,
   "metadata": {},
   "outputs": [],
   "source": [
    "def type_convert(x):\n",
    "    if pd.isna(x):\n",
    "        return 'Others'\n",
    "    elif 'Theft' in x:\n",
    "        return 'Theft'\n",
    "    elif 'Burglary'in x:\n",
    "        return 'Burglary'\n",
    "    elif 'Murder' in x:\n",
    "        return 'Murder'\n",
    "    elif 'Assault' in x:\n",
    "        return 'Assault'\n",
    "    else:\n",
    "        return x\n",
    "        \n",
    "\n",
    "df['primary_type'] = df['primary_type'].apply(type_convert)"
   ]
  },
  {
   "cell_type": "code",
   "execution_count": 7,
   "metadata": {},
   "outputs": [
    {
     "data": {
      "image/png": "[encoded data removed]",
      "text/plain": [
       "<Figure size 432x288 with 1 Axes>"
      ]
     },
     "metadata": {
      "needs_background": "light"
     },
     "output_type": "display_data"
    }
   ],
   "source": [
    "# create data\n",
    "grouped_data = df.groupby(['primary_type', 'clearance_status']).size()\\\n",
    "                 .to_frame().rename(columns={0:'counts'}).reset_index()\n",
    "\n",
    "x = np.arange(len(grouped_data['primary_type'].unique()))\n",
    "y1 = grouped_data[grouped_data['clearance_status'] == 'Cleared by Arrest']['counts'].values\n",
    "y2 = grouped_data[grouped_data['clearance_status'] == 'Cleared by Exception']['counts'].values\n",
    "y3 = grouped_data[grouped_data['clearance_status'] == 'Not cleared']['counts'].values\n",
    "width = 0.2\n",
    "  \n",
    "# plot data in grouped manner of bar type\n",
    "plt.bar(x-0.2, y1, width, color='cyan')\n",
    "plt.bar(x, y2, width, color='orange')\n",
    "plt.bar(x+0.2, y3, width, color='green')\n",
    "plt.xticks(x, grouped_data['primary_type'].unique())\n",
    "plt.xlabel(\"Primary Types\")\n",
    "plt.ylabel(\"Cases\")\n",
    "plt.legend([\"Cleared by Arrest\", \"Cleared by Exception\", \"Not cleared\"])\n",
    "plt.show()"
   ]
  },
  {
   "cell_type": "code",
   "execution_count": null,
   "metadata": {},
   "outputs": [],
   "source": [
    "df['x_standardized'] = ((df['x_coordinate'] - np.mean(df['x_coordinate'])) / np.std(df['x_coordinate'])).fillna(0)\n",
    "df['y_standardized'] = ((df['y_coordinate'] - np.mean(df['y_coordinate'])) / np.std(df['y_coordinate'])).fillna(0)\n",
    "\n",
    "groups = df.groupby(\"clearance_status\")\n",
    "for name, group in groups:\n",
    "    plt.plot(group[\"x_standardized\"], group[\"y_standardized\"], marker=\"o\", linestyle=\"\", label=name, alpha = 0.1)\n",
    "plt.legend()"
   ]
  }
 ],
 "metadata": {
  "interpreter": {
   "hash": "0662545c6fd30eceb00c46289e22b5a22aef9c4ebb29470f344626a3bc8eec96"
  },
  "kernelspec": {
   "display_name": "Python 3.9.7 ('base')",
   "language": "python",
   "name": "python3"
  },
  "language_info": {
   "codemirror_mode": {
    "name": "ipython",
    "version": 3
   },
   "file_extension": ".py",
   "mimetype": "text/x-python",
   "name": "python",
   "nbconvert_exporter": "python",
   "pygments_lexer": "ipython3",
   "version": "3.9.7"
  }
 },
 "nbformat": 4,
 "nbformat_minor": 2
}
